{
  "nbformat": 4,
  "nbformat_minor": 0,
  "metadata": {
    "colab": {
      "name": "Human Remains OSLNN - Contrastive Loss.ipynb",
      "provenance": [],
      "collapsed_sections": [],
      "include_colab_link": true
    },
    "kernelspec": {
      "name": "python3",
      "display_name": "Python 3"
    },
    "accelerator": "GPU"
  },
  "cells": [
    {
      "cell_type": "markdown",
      "metadata": {
        "id": "view-in-github",
        "colab_type": "text"
      },
      "source": [
        "<a href=\"https://colab.research.google.com/github/AehLane/BoneTrade-Project-OSLNN/blob/master/Human_Remains_OSLNN_Contrastive_Loss.ipynb\" target=\"_parent\"><img src=\"https://colab.research.google.com/assets/colab-badge.svg\" alt=\"Open In Colab\"/></a>"
      ]
    },
    {
      "cell_type": "markdown",
      "metadata": {
        "id": "RWeTgO_e6Y9e",
        "colab_type": "text"
      },
      "source": [
        "# One Shot Learning with Siamese Networks\n",
        "\n",
        "Code adapated from Harshvardhan Gupta, 2017 [One Shot Learning With Siamese Networks](https://github.com/harveyslash/Facial-Similarity-with-Siamese-Networks-in-Pytorch/blob/master/Siamese-networks-medium.ipynb) and discussed in \n",
        "Graham and Huffer, Can One-Shot Learning Identify Origins of Human Remains Shown on Social Media? \n",
        "\n",
        "\n",
        "---\n",
        "\n",
        "We're assuming you have loaded this notebook with Google Colab and that you are signed into a Google account. You run each block of code in sequential order the first time through. If after having trained a network you wish to resume testing at a later date, we show you how to save your model and reload it, at the appropriate blocks.\n",
        "\n",
        "## Hardware Acceleration\n",
        "\n",
        "Under 'Edit' -> 'Notebook Settings' make sure to select 'GPU' for Hardware Acceleration. The next block of code double-checks to make sure you've got GPU selected. "
      ]
    },
    {
      "cell_type": "code",
      "metadata": {
        "id": "fjVyWDJAF4-m",
        "colab_type": "code",
        "outputId": "449ae6b1-a353-406a-c30e-4c95bdddad48",
        "colab": {
          "base_uri": "https://localhost:8080/",
          "height": 34
        }
      },
      "source": [
        "try:\n",
        "    %tensorflow_version 2.x\n",
        "except:\n",
        "    pass\n",
        "\n",
        "import tensorflow as tf\n",
        "device_name = tf.test.gpu_device_name()\n",
        "if device_name != '/device:GPU:0':\n",
        "  raise SystemError('GPU device not found')\n",
        "print('Found GPU at: {}'.format(device_name))"
      ],
      "execution_count": 2,
      "outputs": [
        {
          "output_type": "stream",
          "text": [
            "Found GPU at: /device:GPU:0\n"
          ],
          "name": "stdout"
        }
      ]
    },
    {
      "cell_type": "markdown",
      "metadata": {
        "id": "jrQFGF1T8wgI",
        "colab_type": "text"
      },
      "source": [
        "## Load your data\n",
        "\n",
        "There are a variety of ways to get your data into this notebook. The easiest are to upload directly, or to connect your Google Drive account. If you connect your Google Drive account, it will appear as a folder within the tray. You can right-click on a folder within your drive, copy the path, and then paste that into your code. Note that you'll have to delete the leading `/content/` from the path. \n",
        "\n",
        "**We are assuming that you have zipped a folder called `data` with two subfolders `testing` and `training`, and within each of those folders, one folder per class of _item_ you wish to train on/test.**\n",
        "\n",
        "**To upload** open the tray at left by clicking on the `>` button. Select 'Files' and then 'Upload'. You can then select a zip file from your machine. The tray does not refresh automatically, so you'll need to hit 'refresh' periodically.\n",
        "\n",
        "Then, unzip the data by running the next block. If you're using Google drive, skip to the next block."
      ]
    },
    {
      "cell_type": "code",
      "metadata": {
        "id": "byy27-Z_EHgx",
        "colab_type": "code",
        "colab": {
          "base_uri": "https://localhost:8080/",
          "height": 34
        },
        "outputId": "e3b029f9-70a9-4cf9-98df-b18a9d08b060"
      },
      "source": [
        "# If I'm uploading\n",
        "!unzip data.zip -d data/"
      ],
      "execution_count": 3,
      "outputs": [
        {
          "output_type": "stream",
          "text": [
            "/bin/sh: 1: unzip: not found\r\n"
          ],
          "name": "stdout"
        }
      ]
    },
    {
      "cell_type": "markdown",
      "metadata": {
        "id": "cp4KELeH9wcp",
        "colab_type": "text"
      },
      "source": [
        "**To mount your Google drive** run the next block of code. The results block will display a URL. Click on this, and a new window will open, confirming that you want to connect your drive. Once you've confirmed, an authorization code will be displayed. Copy this code, and paste into the results block. If all goes well, the results block will shortly display the text, 'Mounted at /content/drive'. Refresh the files pane in the tray at left, and you will see it there."
      ]
    },
    {
      "cell_type": "code",
      "metadata": {
        "id": "ne9mUU_TQFLJ",
        "colab_type": "code",
        "colab": {
          "base_uri": "https://localhost:8080/",
          "height": 180
        },
        "outputId": "35fdf41d-25ce-44d0-b994-32215ac96434"
      },
      "source": [
        "from google.colab import drive\n",
        "drive.mount('/content/drive')"
      ],
      "execution_count": 4,
      "outputs": [
        {
          "output_type": "error",
          "ename": "ModuleNotFoundError",
          "evalue": "ignored",
          "traceback": [
            "\u001b[0;31m---------------------------------------------------------------------------\u001b[0m",
            "\u001b[0;31mModuleNotFoundError\u001b[0m                       Traceback (most recent call last)",
            "\u001b[0;32m<ipython-input-4-d5df0069828e>\u001b[0m in \u001b[0;36m<module>\u001b[0;34m\u001b[0m\n\u001b[0;32m----> 1\u001b[0;31m \u001b[0;32mfrom\u001b[0m \u001b[0mgoogle\u001b[0m\u001b[0;34m.\u001b[0m\u001b[0mcolab\u001b[0m \u001b[0;32mimport\u001b[0m \u001b[0mdrive\u001b[0m\u001b[0;34m\u001b[0m\u001b[0;34m\u001b[0m\u001b[0m\n\u001b[0m\u001b[1;32m      2\u001b[0m \u001b[0mdrive\u001b[0m\u001b[0;34m.\u001b[0m\u001b[0mmount\u001b[0m\u001b[0;34m(\u001b[0m\u001b[0;34m'/content/drive'\u001b[0m\u001b[0;34m)\u001b[0m\u001b[0;34m\u001b[0m\u001b[0;34m\u001b[0m\u001b[0m\n",
            "\u001b[0;31mModuleNotFoundError\u001b[0m: No module named 'google.colab'"
          ]
        }
      ]
    },
    {
      "cell_type": "markdown",
      "metadata": {
        "id": "5ft2c2VM-Zx7",
        "colab_type": "text"
      },
      "source": [
        "In the two blocks below, we show you how to copy a file from your drive to this space, how to make a new directory (`mkdir`) and how to unzip a folder into that new directory."
      ]
    },
    {
      "cell_type": "code",
      "metadata": {
        "id": "x0rfcjBnQbVg",
        "colab_type": "code",
        "colab": {}
      },
      "source": [
        "# If you have data already on google drive\n",
        "#!cp \"drive/My Drive/one-shot-test/data_copy_with_equal_augs.zip\" data.zip\n",
        "!cp \"drive/My Drive/one-shot-test/data.zip\" data.zip"
      ],
      "execution_count": 0,
      "outputs": []
    },
    {
      "cell_type": "code",
      "metadata": {
        "id": "wiy0t5z3J1Is",
        "colab_type": "code",
        "colab": {}
      },
      "source": [
        "# Upload data from local machine then:\n",
        "# !mkdir data && unzip data.zip -d data/\n",
        "!unzip data.zip \n",
        "\n",
        "# Or copy it over from google drive"
      ],
      "execution_count": 0,
      "outputs": []
    },
    {
      "cell_type": "code",
      "metadata": {
        "id": "EvPOjTc6dgWZ",
        "colab_type": "code",
        "colab": {}
      },
      "source": [
        "from zipfile import ZipFile\n",
        "\n",
        "#https://thispointer.com/python-how-to-unzip-a-file-extract-single-multiple-or-all-files-from-a-zip-archive/\n",
        "# Create a ZipFile Object and load sample.zip in it\n",
        "with ZipFile('data.zip', 'r') as zipObj:\n",
        "   # Extract all the contents of zip file in current directory\n",
        "   zipObj.extractall('data')\n"
      ],
      "execution_count": 0,
      "outputs": []
    },
    {
      "cell_type": "markdown",
      "metadata": {
        "id": "T5oU-S9i-mkz",
        "colab_type": "text"
      },
      "source": [
        "---\n",
        "## Imports\n",
        "\n",
        "We now need to import some libraries that we will use to build the neural network.\n"
      ]
    },
    {
      "cell_type": "code",
      "metadata": {
        "id": "7l92t8_-FOeK",
        "colab_type": "code",
        "colab": {}
      },
      "source": [
        "%matplotlib inline\n",
        "import torchvision\n",
        "import torchvision.datasets as dset\n",
        "import torchvision.transforms as transforms\n",
        "from torch.utils.data import DataLoader,Dataset\n",
        "import matplotlib.pyplot as plt\n",
        "import torchvision.utils\n",
        "import numpy as np\n",
        "import random\n",
        "from PIL import Image\n",
        "import torch\n",
        "from torch.autograd import Variable\n",
        "import PIL.ImageOps    \n",
        "import torch.nn as nn\n",
        "from torch import optim\n",
        "import torch.nn.functional as F\n",
        "\n",
        "from scipy.spatial.distance import pdist\n",
        "\n",
        "#!pip install tensorflow-addons\n",
        "#import tensorflow_addons as tfa"
      ],
      "execution_count": 0,
      "outputs": []
    },
    {
      "cell_type": "markdown",
      "metadata": {
        "id": "K0yyYaOq-031",
        "colab_type": "text"
      },
      "source": [
        "## Helper functions\n",
        "\n",
        "Here we create two helper functions, `imshow` and `show_plot`. "
      ]
    },
    {
      "cell_type": "code",
      "metadata": {
        "id": "gE-TfRPnGGxd",
        "colab_type": "code",
        "colab": {}
      },
      "source": [
        "def imshow(img,text=None, text2=None,should_save=False):\n",
        "    npimg = img.numpy()\n",
        "    plt.axis(\"off\")\n",
        "    if text:\n",
        "        plt.text(10, 10, text, style='italic',fontweight='bold',\n",
        "            bbox={'facecolor':'white', 'alpha':0.8, 'pad':10})\n",
        "    if text2:\n",
        "        plt.text(120, 10, text2, style='italic',fontweight='bold',\n",
        "            bbox={'facecolor':'white', 'alpha':0.8, 'pad':10})\n",
        "    plt.imshow(np.transpose(npimg, (1, 2, 0)))\n",
        "    plt.show()    \n",
        "\n",
        "def show_plot(iteration,loss):\n",
        "    plt.plot(iteration,loss)\n",
        "    plt.show()"
      ],
      "execution_count": 0,
      "outputs": []
    },
    {
      "cell_type": "markdown",
      "metadata": {
        "id": "4OMg3RNu-QsV",
        "colab_type": "text"
      },
      "source": [
        "## Defining Dataloader workers' init()\n",
        "\n",
        "We specify an init function, \"__worker_init_fn__\" to split the task of generating anchor-unknown pairs among a group of workers. This function is provided as an argument for __DataLoaders__, giving the dataloader an init method for its workers."
      ]
    },
    {
      "cell_type": "code",
      "metadata": {
        "id": "5dv5acBUGTpr",
        "colab_type": "code",
        "colab": {}
      },
      "source": [
        "def worker_init_fn(worker_id):\n",
        "    worker_info = torch.utils.data.get_worker_info()\n",
        "    dataset = worker_info.dataset\n",
        "\n",
        "    dataset.worker_unique_id = worker_info.id\n",
        "    dataset.number_of_workers = worker_info.num_workers\n",
        "    dataset.anchor_iter_index = torch.tensor(worker_info.id)\n",
        "    dataset.unknown_iter_index = torch.tensor(worker_info.id)"
      ],
      "execution_count": 0,
      "outputs": []
    },
    {
      "cell_type": "markdown",
      "metadata": {
        "id": "6hh2Y_l8_bpY",
        "colab_type": "text"
      },
      "source": [
        "## Configuration class\n",
        "\n",
        "We now create a class to configure some variables we will be reusing. "
      ]
    },
    {
      "cell_type": "code",
      "metadata": {
        "id": "Ml-XlyHEGKB7",
        "colab_type": "code",
        "colab": {}
      },
      "source": [
        "class Config():\n",
        "    training_dir = \"/content/data/training\"\n",
        "    testing_dir = \"/content/data/testing\"\n",
        "    #training_dir = \"/content/data_copy_with_equal_augs/data/training\"\n",
        "    #testing_dir = \"/content/data_copy_with_equal_augs/data/testing\"\n",
        "    train_batch_size = 64\n",
        "    train_number_epochs = 100\n",
        "    num_generator_workers = 1"
      ],
      "execution_count": 0,
      "outputs": []
    },
    {
      "cell_type": "code",
      "metadata": {
        "id": "GwjIJqCwdy_w",
        "colab_type": "code",
        "colab": {}
      },
      "source": [
        "class Config():\n",
        "    training_dir = \"data/data/training\"\n",
        "    testing_dir = \"data/data/testing\"\n",
        "    #training_dir = \"data_copy_with_equal_augs/data/training\"\n",
        "    #testing_dir = \"data_copy_with_equal_augs/data/testing\"\n",
        "    train_batch_size = 64\n",
        "    train_number_epochs = 100\n",
        "    num_generator_workers = 1"
      ],
      "execution_count": 0,
      "outputs": []
    },
    {
      "cell_type": "markdown",
      "metadata": {
        "id": "RC_2Oc5L_8V4",
        "colab_type": "text"
      },
      "source": [
        "## Custom dataset class\n",
        "\n",
        "Under a superclass of \"__SiameseNetworkDataset__\", two subclasses exist for different purposes; training and testing.\n",
        "\n",
        "For \"__PairwiseTrainingSiameseNetworkDataset__\", we set up the code to generates a pair of images from our training dataset, 0 for geniune pair and 1 for imposter pair. It goes through the training directory, pairing images and assuming that images within a subfolder are similar and images from different subfolders are different. This is also where we attach filenames to the images so that when we are testing later we know which pairs of images we're dealing with. This addition to the original code, the class implementation now residing under \"__PairwiseTrainingSiameseNetworkDataset__\", is courtesy of Tim Sherratt with modifications by Alex Lane.\n",
        "\n",
        "__Note:__ If the training dataset subdirectories do not have the same number of images in each subdirectory, \"__PairwiseTrainingSiameseNetworkDataset__\" will select pairs with more bias. Over a large number of pairs, more pairs containing images from subdirectories with less images will be generated. It is advised that the subdirectories have a uniform number of images within to ensure random selection.\n",
        "\n",
        "For \"__PairwiseTestingSiameseNetworkDataset__\", \"__getitem__\" returns a valid anchor-unknown pair of images. Since the data is kept as a generator due to possibly working with large sets of data, the runtime should be __O(n^2)__ due to iteratively comparing each element of the dataset to each potential pair member in the same dataset."
      ]
    },
    {
      "cell_type": "code",
      "metadata": {
        "id": "C49BrRm0GdTY",
        "colab_type": "code",
        "colab": {}
      },
      "source": [
        "class SiameseNetworkDataset(Dataset):\n",
        "    \n",
        "    def __init__(self,imageFolderDataset,transform=None,should_invert=True):\n",
        "        self.imageFolderDataset = imageFolderDataset    \n",
        "        self.transform = transform\n",
        "        self.should_invert = should_invert\n",
        "        \n",
        "    def __len__(self):\n",
        "        return len(self.imageFolderDataset.imgs)\n",
        "\n",
        "\n",
        "class PairwiseTrainingSiameseNetworkDataset(SiameseNetworkDataset):\n",
        "\n",
        "    def __getitem__(self,index):\n",
        "        img0_tuple = random.choice(self.imageFolderDataset.imgs)\n",
        "        # We need to make sure approx 50% of images are in the same class\n",
        "        should_get_same_class = bool(random.getrandbits(1)) \n",
        "\n",
        "        num_pos_images = (len(self.imageFolderDataset.imgs)\n",
        "            /len(self.imageFolderDataset.class_to_idx))\n",
        "        if should_get_same_class:\n",
        "            while True:\n",
        "            #    # Keep looping till the same class image is found\n",
        "            #   img1_tuple = random.choice(self.imageFolderDataset.imgs) \n",
        "            #   if img0_tuple[1]==img1_tuple[1]:\n",
        "            #       break\n",
        "                if (img0_tuple != self.imageFolderDataset.imgs[random.randrange((img0_tuple[1]*num_pos_images),((img0_tuple[1]+1)*num_pos_images))]):\n",
        "                    img1_tuple = self.imageFolderDataset.imgs[random.randrange((img0_tuple[1]*num_pos_images),((img0_tuple[1]+1)*num_pos_images))]\n",
        "                    break;\n",
        "        else:\n",
        "            #while True:\n",
        "            #    # Keep looping till a different class image is found\n",
        "            #    img1_tuple = random.choice(self.imageFolderDataset.imgs) \n",
        "            #    if img0_tuple[1] !=img1_tuple[1]:\n",
        "            #        break\n",
        "            size_first_neg_range = img0_tuple[1]*num_pos_images\n",
        "            size_second_neg_range = len(self.imageFolderDataset.imgs) - ((img0_tuple[1]+1)*num_pos_images)\n",
        "\n",
        "            total_random_neg_indices = size_first_neg_range+size_second_neg_range\n",
        "            neg_index_chosen = int(total_random_neg_indices * random.random())\n",
        "            if(neg_index_chosen < size_first_neg_range):\n",
        "                img1_tuple = self.imageFolderDataset.imgs[int(neg_index_chosen)]\n",
        "            else:\n",
        "                img1_tuple = self.imageFolderDataset.imgs[int(neg_index_chosen+num_pos_images)]\n",
        "\n",
        "\n",
        "        img0 = Image.open(img0_tuple[0])\n",
        "        img1 = Image.open(img1_tuple[0])\n",
        "        img0 = img0.convert(\"L\")\n",
        "        img1 = img1.convert(\"L\")\n",
        "            \n",
        "        if self.should_invert:\n",
        "            img0 = PIL.ImageOps.invert(img0)\n",
        "            img1 = PIL.ImageOps.invert(img1)\n",
        "\n",
        "        if self.transform is not None:\n",
        "            img0 = self.transform(img0)\n",
        "            img1 = self.transform(img1)\n",
        "        \n",
        "        # return img0, img1 , torch.from_numpy(\n",
        "            # np.array([int(img1_tuple[1]!=img0_tuple[1])],dtype=np.float32))\n",
        "\t\t# Courtesy of Tim Sherrat\n",
        "        # The new return line\n",
        "\t\t# Note the addition of img0_tuple[0], img1_tuple[0] which contain the \n",
        "        # paths\n",
        "        #print(np.array([int(img1_tuple[1]!=img0_tuple[1])],dtype=np.float32))\n",
        "        return (img0,\n",
        "                img1,\n",
        "                torch.from_numpy(\n",
        "                    np.array(\n",
        "                        [int(img1_tuple[1]!=img0_tuple[1])],\n",
        "                        dtype=np.float32)),\n",
        "                img0_tuple[0],\n",
        "                img1_tuple[0])\n",
        "\n",
        "\n",
        "\n",
        "    \n",
        "class PairwiseTestingSiameseNetworkDataset(SiameseNetworkDataset):\n",
        "\n",
        "    def __init__(\n",
        "            self,\n",
        "            imageFolderDataset,\n",
        "            transform,should_invert,\n",
        "            anchor_iter_index,\n",
        "            unknown_iter_index=0,\n",
        "            anchor_file_identifier='',\n",
        "            worker_unique_id=0,\n",
        "            number_of_workers=1):\n",
        "        super().__init__(imageFolderDataset,transform,should_invert)\n",
        "        self.anchor_iter_index = anchor_iter_index\n",
        "        self.unknown_iter_index = unknown_iter_index\n",
        "        self.anchor_file_identifier = anchor_file_identifier\n",
        "        self.worker_unique_id = worker_unique_id\n",
        "        self.number_of_workers = number_of_workers\n",
        "\n",
        "    def __getitem__(self,index):\n",
        "        #print(self.imageFolderDataset.classes)\n",
        "        while self.anchor_iter_index < len(self):\n",
        "            if (\n",
        "                    self.anchor_file_identifier \n",
        "                    in self.imageFolderDataset.imgs[self.anchor_iter_index][0]):\n",
        "                img0_tuple = (\n",
        "                    self.imageFolderDataset.imgs[self.anchor_iter_index])\n",
        "                break\n",
        "            else:\n",
        "                self.anchor_iter_index += self.number_of_workers\n",
        "\n",
        "        if self.anchor_iter_index >= len(self):\n",
        "            return -1, -1, -1, -1, -1, -1\n",
        "        else:\n",
        "            self.anchor_iter_index += self.number_of_workers\n",
        "            #print(self.anchor_iter_index)\n",
        "            img0 = Image.open(img0_tuple[0])\n",
        "            img0 = img0.convert(\"L\")\n",
        "            \n",
        "            if self.should_invert:\n",
        "                img0 = PIL.ImageOps.invert(img0)\n",
        "\n",
        "            if self.transform is not None:\n",
        "                img0 = self.transform(img0)\n",
        "            #print(self.anchor_iter_index)\n",
        "            return (self.anchor_iter_index.item()-self.number_of_workers,\n",
        "                    self.worker_unique_id,\n",
        "                    img0,\n",
        "                    -1 ,\n",
        "                    img0_tuple[0],\n",
        "                    -1)\n",
        "\n",
        "\n",
        "class PairwiseTestingSiameseNetworkDataset2(SiameseNetworkDataset):\n",
        "\n",
        "    def __init__(\n",
        "            self,\n",
        "            imageFolderDataset,transform,should_invert,\n",
        "            anchor_iter_index,unknown_iter_index=0,\n",
        "            anchor_file_identifier='',\n",
        "            worker_unique_id=0,\n",
        "            number_of_workers=1):\n",
        "        super().__init__(imageFolderDataset,transform,should_invert)\n",
        "        self.anchor_iter_index = anchor_iter_index\n",
        "        self.unknown_iter_index = unknown_iter_index\n",
        "        self.anchor_file_identifier = anchor_file_identifier\n",
        "        self.worker_unique_id = worker_unique_id\n",
        "        self.number_of_workers = number_of_workers\n",
        "\n",
        "    def __getitem__(self,index):\n",
        "        img0_tuple = self.imageFolderDataset.imgs[self.anchor_iter_index]\n",
        "              \n",
        "        while self.unknown_iter_index < len(self):\n",
        "            if (\n",
        "                    not self.anchor_file_identifier \n",
        "                    in self.imageFolderDataset.imgs[self.unknown_iter_index][0]\n",
        "                ):\n",
        "                img1_tuple = (\n",
        "                    self.imageFolderDataset.imgs[self.unknown_iter_index])\n",
        "                break\n",
        "            else:\n",
        "                self.unknown_iter_index += self.number_of_workers\n",
        "\n",
        "        if self.unknown_iter_index >= len(self):\n",
        "            self.unknown_iter_index = 0\n",
        "            return -1, self.worker_unique_id, -1, -1, -1, -1\n",
        "        else:\n",
        "            self.unknown_iter_index += self.number_of_workers\n",
        "\n",
        "            img0 = Image.open(img0_tuple[0])\n",
        "            img1 = Image.open(img1_tuple[0])\n",
        "            img0 = img0.convert(\"L\")\n",
        "            img1 = img1.convert(\"L\")\n",
        "            \n",
        "            if self.should_invert:\n",
        "                img0 = PIL.ImageOps.invert(img0)\n",
        "                img1 = PIL.ImageOps.invert(img1)\n",
        "\n",
        "            if self.transform is not None:\n",
        "                img0 = self.transform(img0)\n",
        "                img1 = self.transform(img1)\n",
        "\n",
        "            return (self.unknown_iter_index,\n",
        "                    self.worker_unique_id,\n",
        "                    img0, \n",
        "                    img1 , \n",
        "                    img0_tuple[0], \n",
        "                    img1_tuple[0])\n",
        "\n"
      ],
      "execution_count": 0,
      "outputs": []
    },
    {
      "cell_type": "markdown",
      "metadata": {
        "id": "6k0ZQeUoA3-C",
        "colab_type": "text"
      },
      "source": [
        "## Setting the image folder to be used by the custom dataset\n",
        "\n",
        "In the first block, we specify the location of the training data. In the second block, we pass the images through the custom dataset class,  resizing them to 100 x 100 pixels, transforming them into tensors."
      ]
    },
    {
      "cell_type": "code",
      "metadata": {
        "id": "5gAhHc3_A3ED",
        "colab_type": "code",
        "colab": {
          "base_uri": "https://localhost:8080/",
          "height": 54
        },
        "outputId": "eebcab9e-4ba3-40a5-b24b-98be7c120c7d"
      },
      "source": [
        "folder_dataset = dset.ImageFolder(root=Config.training_dir)\n",
        "print(folder_dataset.imgs)"
      ],
      "execution_count": 11,
      "outputs": [
        {
          "output_type": "stream",
          "text": [
            "[('data/data/training/alleged_malay_female/0new.png', 0), ('data/data/training/alleged_malay_female/10new.png', 0), ('data/data/training/alleged_malay_female/11new.png', 0), ('data/data/training/alleged_malay_female/12new.png', 0), ('data/data/training/alleged_malay_female/13new.png', 0), ('data/data/training/alleged_malay_female/14new.png', 0), ('data/data/training/alleged_malay_female/15new.png', 0), ('data/data/training/alleged_malay_female/16new.png', 0), ('data/data/training/alleged_malay_female/17new.png', 0), ('data/data/training/alleged_malay_female/18new.png', 0), ('data/data/training/alleged_malay_female/19new.png', 0), ('data/data/training/alleged_malay_female/1new.png', 0), ('data/data/training/alleged_malay_female/20new.png', 0), ('data/data/training/alleged_malay_female/21new.png', 0), ('data/data/training/alleged_malay_female/22new.png', 0), ('data/data/training/alleged_malay_female/23new.png', 0), ('data/data/training/alleged_malay_female/24new.png', 0), ('data/data/training/alleged_malay_female/25new.png', 0), ('data/data/training/alleged_malay_female/26new.png', 0), ('data/data/training/alleged_malay_female/27new.png', 0), ('data/data/training/alleged_malay_female/28new.png', 0), ('data/data/training/alleged_malay_female/29new.png', 0), ('data/data/training/alleged_malay_female/2new.png', 0), ('data/data/training/alleged_malay_female/30new.png', 0), ('data/data/training/alleged_malay_female/31new.png', 0), ('data/data/training/alleged_malay_female/3new.png', 0), ('data/data/training/alleged_malay_female/4new.png', 0), ('data/data/training/alleged_malay_female/5new.png', 0), ('data/data/training/alleged_malay_female/6new.png', 0), ('data/data/training/alleged_malay_female/7new.png', 0), ('data/data/training/alleged_malay_female/8new.png', 0), ('data/data/training/alleged_malay_female/9new.png', 0), ('data/data/training/etnografiska-asmat1_aug/0new.png', 1), ('data/data/training/etnografiska-asmat1_aug/10new.png', 1), ('data/data/training/etnografiska-asmat1_aug/11new.png', 1), ('data/data/training/etnografiska-asmat1_aug/12new.png', 1), ('data/data/training/etnografiska-asmat1_aug/13new.png', 1), ('data/data/training/etnografiska-asmat1_aug/14new.png', 1), ('data/data/training/etnografiska-asmat1_aug/15new.png', 1), ('data/data/training/etnografiska-asmat1_aug/16new.png', 1), ('data/data/training/etnografiska-asmat1_aug/17new.png', 1), ('data/data/training/etnografiska-asmat1_aug/18new.png', 1), ('data/data/training/etnografiska-asmat1_aug/19new.png', 1), ('data/data/training/etnografiska-asmat1_aug/1new.png', 1), ('data/data/training/etnografiska-asmat1_aug/20new.png', 1), ('data/data/training/etnografiska-asmat1_aug/21new.png', 1), ('data/data/training/etnografiska-asmat1_aug/22new.png', 1), ('data/data/training/etnografiska-asmat1_aug/23new.png', 1), ('data/data/training/etnografiska-asmat1_aug/24new.png', 1), ('data/data/training/etnografiska-asmat1_aug/25new.png', 1), ('data/data/training/etnografiska-asmat1_aug/26new.png', 1), ('data/data/training/etnografiska-asmat1_aug/27new.png', 1), ('data/data/training/etnografiska-asmat1_aug/28new.png', 1), ('data/data/training/etnografiska-asmat1_aug/29new.png', 1), ('data/data/training/etnografiska-asmat1_aug/2new.png', 1), ('data/data/training/etnografiska-asmat1_aug/30new.png', 1), ('data/data/training/etnografiska-asmat1_aug/31new.png', 1), ('data/data/training/etnografiska-asmat1_aug/3new.png', 1), ('data/data/training/etnografiska-asmat1_aug/4new.png', 1), ('data/data/training/etnografiska-asmat1_aug/5new.png', 1), ('data/data/training/etnografiska-asmat1_aug/6new.png', 1), ('data/data/training/etnografiska-asmat1_aug/7new.png', 1), ('data/data/training/etnografiska-asmat1_aug/8new.png', 1), ('data/data/training/etnografiska-asmat1_aug/9new.png', 1), ('data/data/training/etnografiska-asmat2_aug/0new.png', 2), ('data/data/training/etnografiska-asmat2_aug/10new.png', 2), ('data/data/training/etnografiska-asmat2_aug/11new.png', 2), ('data/data/training/etnografiska-asmat2_aug/12new.png', 2), ('data/data/training/etnografiska-asmat2_aug/13new.png', 2), ('data/data/training/etnografiska-asmat2_aug/14new.png', 2), ('data/data/training/etnografiska-asmat2_aug/15new.png', 2), ('data/data/training/etnografiska-asmat2_aug/16new.png', 2), ('data/data/training/etnografiska-asmat2_aug/17new.png', 2), ('data/data/training/etnografiska-asmat2_aug/18new.png', 2), ('data/data/training/etnografiska-asmat2_aug/19new.png', 2), ('data/data/training/etnografiska-asmat2_aug/1new.png', 2), ('data/data/training/etnografiska-asmat2_aug/20new.png', 2), ('data/data/training/etnografiska-asmat2_aug/21new.png', 2), ('data/data/training/etnografiska-asmat2_aug/22new.png', 2), ('data/data/training/etnografiska-asmat2_aug/23new.png', 2), ('data/data/training/etnografiska-asmat2_aug/24new.png', 2), ('data/data/training/etnografiska-asmat2_aug/25new.png', 2), ('data/data/training/etnografiska-asmat2_aug/26new.png', 2), ('data/data/training/etnografiska-asmat2_aug/27new.png', 2), ('data/data/training/etnografiska-asmat2_aug/28new.png', 2), ('data/data/training/etnografiska-asmat2_aug/29new.png', 2), ('data/data/training/etnografiska-asmat2_aug/2new.png', 2), ('data/data/training/etnografiska-asmat2_aug/30new.png', 2), ('data/data/training/etnografiska-asmat2_aug/31new.png', 2), ('data/data/training/etnografiska-asmat2_aug/3new.png', 2), ('data/data/training/etnografiska-asmat2_aug/4new.png', 2), ('data/data/training/etnografiska-asmat2_aug/5new.png', 2), ('data/data/training/etnografiska-asmat2_aug/6new.png', 2), ('data/data/training/etnografiska-asmat2_aug/7new.png', 2), ('data/data/training/etnografiska-asmat2_aug/8new.png', 2), ('data/data/training/etnografiska-asmat2_aug/9new.png', 2), ('data/data/training/london-male-nhm-collection/0new.png', 3), ('data/data/training/london-male-nhm-collection/10new.png', 3), ('data/data/training/london-male-nhm-collection/11new.png', 3), ('data/data/training/london-male-nhm-collection/12new.png', 3), ('data/data/training/london-male-nhm-collection/13new.png', 3), ('data/data/training/london-male-nhm-collection/14new.png', 3), ('data/data/training/london-male-nhm-collection/15new.png', 3), ('data/data/training/london-male-nhm-collection/16new.png', 3), ('data/data/training/london-male-nhm-collection/17new.png', 3), ('data/data/training/london-male-nhm-collection/18new.png', 3), ('data/data/training/london-male-nhm-collection/19new.png', 3), ('data/data/training/london-male-nhm-collection/1new.png', 3), ('data/data/training/london-male-nhm-collection/20new.png', 3), ('data/data/training/london-male-nhm-collection/21new.png', 3), ('data/data/training/london-male-nhm-collection/22new.png', 3), ('data/data/training/london-male-nhm-collection/23new.png', 3), ('data/data/training/london-male-nhm-collection/24new.png', 3), ('data/data/training/london-male-nhm-collection/25new.png', 3), ('data/data/training/london-male-nhm-collection/26new.png', 3), ('data/data/training/london-male-nhm-collection/27new.png', 3), ('data/data/training/london-male-nhm-collection/28new.png', 3), ('data/data/training/london-male-nhm-collection/29new.png', 3), ('data/data/training/london-male-nhm-collection/2new.png', 3), ('data/data/training/london-male-nhm-collection/30new.png', 3), ('data/data/training/london-male-nhm-collection/31new.png', 3), ('data/data/training/london-male-nhm-collection/3new.png', 3), ('data/data/training/london-male-nhm-collection/4new.png', 3), ('data/data/training/london-male-nhm-collection/5new.png', 3), ('data/data/training/london-male-nhm-collection/6new.png', 3), ('data/data/training/london-male-nhm-collection/7new.png', 3), ('data/data/training/london-male-nhm-collection/8new.png', 3), ('data/data/training/london-male-nhm-collection/9new.png', 3), ('data/data/training/musee-du-lhomme-dayak1/0new.png', 4), ('data/data/training/musee-du-lhomme-dayak1/1-0new.png', 4), ('data/data/training/musee-du-lhomme-dayak1/1-1new.png', 4), ('data/data/training/musee-du-lhomme-dayak1/1-2new.png', 4), ('data/data/training/musee-du-lhomme-dayak1/1-3new.png', 4), ('data/data/training/musee-du-lhomme-dayak1/1-4new.png', 4), ('data/data/training/musee-du-lhomme-dayak1/1-5new.png', 4), ('data/data/training/musee-du-lhomme-dayak1/10new.png', 4), ('data/data/training/musee-du-lhomme-dayak1/10newno-skull.png', 4), ('data/data/training/musee-du-lhomme-dayak1/11new.png', 4), ('data/data/training/musee-du-lhomme-dayak1/11newno-skull.png', 4), ('data/data/training/musee-du-lhomme-dayak1/12new.png', 4), ('data/data/training/musee-du-lhomme-dayak1/12newno-skull.png', 4), ('data/data/training/musee-du-lhomme-dayak1/13new.png', 4), ('data/data/training/musee-du-lhomme-dayak1/13newno-skull.png', 4), ('data/data/training/musee-du-lhomme-dayak1/14new.png', 4), ('data/data/training/musee-du-lhomme-dayak1/14newno-skull.png', 4), ('data/data/training/musee-du-lhomme-dayak1/15new.png', 4), ('data/data/training/musee-du-lhomme-dayak1/15newno-skull.png', 4), ('data/data/training/musee-du-lhomme-dayak1/16new.png', 4), ('data/data/training/musee-du-lhomme-dayak1/16newno-skull.png', 4), ('data/data/training/musee-du-lhomme-dayak1/17new.png', 4), ('data/data/training/musee-du-lhomme-dayak1/17newno-skull.png', 4), ('data/data/training/musee-du-lhomme-dayak1/18new.png', 4), ('data/data/training/musee-du-lhomme-dayak1/18newno-skull.png', 4), ('data/data/training/musee-du-lhomme-dayak1/19new.png', 4), ('data/data/training/musee-du-lhomme-dayak1/19newno-skull.png', 4), ('data/data/training/musee-du-lhomme-dayak1/1new.png', 4), ('data/data/training/musee-du-lhomme-dayak1/20new.png', 4), ('data/data/training/musee-du-lhomme-dayak1/20newno-skull.png', 4), ('data/data/training/musee-du-lhomme-dayak1/21new.png', 4), ('data/data/training/musee-du-lhomme-dayak1/21newno-skull.png', 4), ('data/data/training/musee-du-lhomme-dayak1/22new.png', 4), ('data/data/training/musee-du-lhomme-dayak1/22newno-skull.png', 4), ('data/data/training/musee-du-lhomme-dayak1/23new.png', 4), ('data/data/training/musee-du-lhomme-dayak1/23newno-skull.png', 4), ('data/data/training/musee-du-lhomme-dayak1/24new.png', 4), ('data/data/training/musee-du-lhomme-dayak1/24newno-skull.png', 4), ('data/data/training/musee-du-lhomme-dayak1/25new.png', 4), ('data/data/training/musee-du-lhomme-dayak1/25newno-skull.png', 4), ('data/data/training/musee-du-lhomme-dayak1/26new.png', 4), ('data/data/training/musee-du-lhomme-dayak1/26newno-skull.png', 4), ('data/data/training/musee-du-lhomme-dayak1/27new.png', 4), ('data/data/training/musee-du-lhomme-dayak1/27newno-skull.png', 4), ('data/data/training/musee-du-lhomme-dayak1/28new.png', 4), ('data/data/training/musee-du-lhomme-dayak1/28newno-skull.png', 4), ('data/data/training/musee-du-lhomme-dayak1/29new.png', 4), ('data/data/training/musee-du-lhomme-dayak1/29newno-skull.png', 4), ('data/data/training/musee-du-lhomme-dayak1/2new.png', 4), ('data/data/training/musee-du-lhomme-dayak1/30new.png', 4), ('data/data/training/musee-du-lhomme-dayak1/30newno-skull.png', 4), ('data/data/training/musee-du-lhomme-dayak1/31new.png', 4), ('data/data/training/musee-du-lhomme-dayak1/31newno-skull.png', 4), ('data/data/training/musee-du-lhomme-dayak1/3new.png', 4), ('data/data/training/musee-du-lhomme-dayak1/4new.png', 4), ('data/data/training/musee-du-lhomme-dayak1/5new.png', 4), ('data/data/training/musee-du-lhomme-dayak1/6new.png', 4), ('data/data/training/musee-du-lhomme-dayak1/6newno-skull.png', 4), ('data/data/training/musee-du-lhomme-dayak1/7new.png', 4), ('data/data/training/musee-du-lhomme-dayak1/7newno-skull.png', 4), ('data/data/training/musee-du-lhomme-dayak1/8new.png', 4), ('data/data/training/musee-du-lhomme-dayak1/8newno-skull.png', 4), ('data/data/training/musee-du-lhomme-dayak1/9new.png', 4), ('data/data/training/musee-du-lhomme-dayak1/9newno-skull.png', 4), ('data/data/training/vokenkunder_dayak2_aug/0new.png', 5), ('data/data/training/vokenkunder_dayak2_aug/10new.png', 5), ('data/data/training/vokenkunder_dayak2_aug/11new.png', 5), ('data/data/training/vokenkunder_dayak2_aug/12new.png', 5), ('data/data/training/vokenkunder_dayak2_aug/13new.png', 5), ('data/data/training/vokenkunder_dayak2_aug/14new.png', 5), ('data/data/training/vokenkunder_dayak2_aug/15new.png', 5), ('data/data/training/vokenkunder_dayak2_aug/16new.png', 5), ('data/data/training/vokenkunder_dayak2_aug/17new.png', 5), ('data/data/training/vokenkunder_dayak2_aug/18new.png', 5), ('data/data/training/vokenkunder_dayak2_aug/19new.png', 5), ('data/data/training/vokenkunder_dayak2_aug/1new.png', 5), ('data/data/training/vokenkunder_dayak2_aug/20new.png', 5), ('data/data/training/vokenkunder_dayak2_aug/21new.png', 5), ('data/data/training/vokenkunder_dayak2_aug/22new.png', 5), ('data/data/training/vokenkunder_dayak2_aug/23new.png', 5), ('data/data/training/vokenkunder_dayak2_aug/24new.png', 5), ('data/data/training/vokenkunder_dayak2_aug/25new.png', 5), ('data/data/training/vokenkunder_dayak2_aug/26new.png', 5), ('data/data/training/vokenkunder_dayak2_aug/27new.png', 5), ('data/data/training/vokenkunder_dayak2_aug/28new.png', 5), ('data/data/training/vokenkunder_dayak2_aug/29new.png', 5), ('data/data/training/vokenkunder_dayak2_aug/2new.png', 5), ('data/data/training/vokenkunder_dayak2_aug/30new.png', 5), ('data/data/training/vokenkunder_dayak2_aug/31new.png', 5), ('data/data/training/vokenkunder_dayak2_aug/3new.png', 5), ('data/data/training/vokenkunder_dayak2_aug/4new.png', 5), ('data/data/training/vokenkunder_dayak2_aug/5new.png', 5), ('data/data/training/vokenkunder_dayak2_aug/6new.png', 5), ('data/data/training/vokenkunder_dayak2_aug/7new.png', 5), ('data/data/training/vokenkunder_dayak2_aug/8new.png', 5), ('data/data/training/vokenkunder_dayak2_aug/9new.png', 5), ('data/data/training/volkenkunde_papua1/0new.png', 6), ('data/data/training/volkenkunde_papua1/10new.png', 6), ('data/data/training/volkenkunde_papua1/11new.png', 6), ('data/data/training/volkenkunde_papua1/12new.png', 6), ('data/data/training/volkenkunde_papua1/13new.png', 6), ('data/data/training/volkenkunde_papua1/14new.png', 6), ('data/data/training/volkenkunde_papua1/15new.png', 6), ('data/data/training/volkenkunde_papua1/16new.png', 6), ('data/data/training/volkenkunde_papua1/17new.png', 6), ('data/data/training/volkenkunde_papua1/18new.png', 6), ('data/data/training/volkenkunde_papua1/19new.png', 6), ('data/data/training/volkenkunde_papua1/1new.png', 6), ('data/data/training/volkenkunde_papua1/20new.png', 6), ('data/data/training/volkenkunde_papua1/21new.png', 6), ('data/data/training/volkenkunde_papua1/22new.png', 6), ('data/data/training/volkenkunde_papua1/23new.png', 6), ('data/data/training/volkenkunde_papua1/24new.png', 6), ('data/data/training/volkenkunde_papua1/25new.png', 6), ('data/data/training/volkenkunde_papua1/26new.png', 6), ('data/data/training/volkenkunde_papua1/27new.png', 6), ('data/data/training/volkenkunde_papua1/28new.png', 6), ('data/data/training/volkenkunde_papua1/29new.png', 6), ('data/data/training/volkenkunde_papua1/2new.png', 6), ('data/data/training/volkenkunde_papua1/30new.png', 6), ('data/data/training/volkenkunde_papua1/31new.png', 6), ('data/data/training/volkenkunde_papua1/3new.png', 6), ('data/data/training/volkenkunde_papua1/4new.png', 6), ('data/data/training/volkenkunde_papua1/5new.png', 6), ('data/data/training/volkenkunde_papua1/6new.png', 6), ('data/data/training/volkenkunde_papua1/7new.png', 6), ('data/data/training/volkenkunde_papua1/8new.png', 6), ('data/data/training/volkenkunde_papua1/9new.png', 6), ('data/data/training/volkenkunder_dayak1_aug/0new.png', 7), ('data/data/training/volkenkunder_dayak1_aug/10new.png', 7), ('data/data/training/volkenkunder_dayak1_aug/11new.png', 7), ('data/data/training/volkenkunder_dayak1_aug/12new.png', 7), ('data/data/training/volkenkunder_dayak1_aug/13new.png', 7), ('data/data/training/volkenkunder_dayak1_aug/14new.png', 7), ('data/data/training/volkenkunder_dayak1_aug/15new.png', 7), ('data/data/training/volkenkunder_dayak1_aug/16new.png', 7), ('data/data/training/volkenkunder_dayak1_aug/17new.png', 7), ('data/data/training/volkenkunder_dayak1_aug/18new.png', 7), ('data/data/training/volkenkunder_dayak1_aug/19new.png', 7), ('data/data/training/volkenkunder_dayak1_aug/1new.png', 7), ('data/data/training/volkenkunder_dayak1_aug/20new.png', 7), ('data/data/training/volkenkunder_dayak1_aug/21new.png', 7), ('data/data/training/volkenkunder_dayak1_aug/22new.png', 7), ('data/data/training/volkenkunder_dayak1_aug/23new.png', 7), ('data/data/training/volkenkunder_dayak1_aug/24new.png', 7), ('data/data/training/volkenkunder_dayak1_aug/25new.png', 7), ('data/data/training/volkenkunder_dayak1_aug/26new.png', 7), ('data/data/training/volkenkunder_dayak1_aug/27new.png', 7), ('data/data/training/volkenkunder_dayak1_aug/28new.png', 7), ('data/data/training/volkenkunder_dayak1_aug/29new.png', 7), ('data/data/training/volkenkunder_dayak1_aug/2new.png', 7), ('data/data/training/volkenkunder_dayak1_aug/30new.png', 7), ('data/data/training/volkenkunder_dayak1_aug/31new.png', 7), ('data/data/training/volkenkunder_dayak1_aug/3new.png', 7), ('data/data/training/volkenkunder_dayak1_aug/4new.png', 7), ('data/data/training/volkenkunder_dayak1_aug/5new.png', 7), ('data/data/training/volkenkunder_dayak1_aug/6new.png', 7), ('data/data/training/volkenkunder_dayak1_aug/7new.png', 7), ('data/data/training/volkenkunder_dayak1_aug/8new.png', 7), ('data/data/training/volkenkunder_dayak1_aug/9new.png', 7)]\n"
          ],
          "name": "stdout"
        }
      ]
    },
    {
      "cell_type": "code",
      "metadata": {
        "id": "PqQBMCGIKdsS",
        "colab_type": "code",
        "colab": {}
      },
      "source": [
        "pairwise_siamese_dataset = PairwiseTrainingSiameseNetworkDataset(\n",
        "    imageFolderDataset=folder_dataset,\n",
        "    transform=transforms.Compose([transforms.Resize((100,100)),\n",
        "                                  transforms.ToTensor()]),\n",
        "    should_invert=False)"
      ],
      "execution_count": 0,
      "outputs": []
    },
    {
      "cell_type": "markdown",
      "metadata": {
        "id": "m_KJxHsaBfU0",
        "colab_type": "text"
      },
      "source": [
        "## Visualising some of the training data\n",
        "\n",
        "The top row and the bottom row of any column is one pair. The 0s and 1s correspond to the column of the image. 1 indiciates dissimilar, and 0 indicates similar.\n"
      ]
    },
    {
      "cell_type": "code",
      "metadata": {
        "id": "DVBSCKdIKhFz",
        "colab_type": "code",
        "colab": {
          "base_uri": "https://localhost:8080/",
          "height": 251
        },
        "outputId": "9a712f98-95b4-41c5-a45f-a81d9dce8c71"
      },
      "source": [
        "vis_dataloader = DataLoader(pairwise_siamese_dataset,\n",
        "                        shuffle=True,\n",
        "                        num_workers=1,\n",
        "                        batch_size=8)\n",
        "dataiter = iter(vis_dataloader)\n",
        "\n",
        "\n",
        "example_batch = next(dataiter)\n",
        "concatenated = torch.cat((example_batch[0],example_batch[1]),0)\n",
        "imshow(torchvision.utils.make_grid(concatenated))\n",
        "print(example_batch[2].numpy())"
      ],
      "execution_count": 13,
      "outputs": [
        {
          "output_type": "display_data",
          "data": {
            "text/plain": [
              "<Figure size 432x288 with 1 Axes>"
            ],
            "image/png": "[encoded data removed]"
          },
          "metadata": {
            "tags": [],
            "needs_background": "light"
          }
        },
        {
          "output_type": "stream",
          "text": [
            "[[1.]\n",
            " [1.]\n",
            " [0.]\n",
            " [1.]\n",
            " [1.]\n",
            " [0.]\n",
            " [1.]\n",
            " [1.]]\n"
          ],
          "name": "stdout"
        }
      ]
    },
    {
      "cell_type": "markdown",
      "metadata": {
        "id": "WoUIsQJ5BpZp",
        "colab_type": "text"
      },
      "source": [
        "## Create the neural network\n",
        "\n",
        "We will use a standard convolutional neural network. Each convolutional layer has batch normalisation and then dropout. As Gupta says, 'There is nothing special about this network. It accepts an input of 100px by 100px and has 3 full connected layers after the convolution layers'. This might be where you want to experiment, eventually, with adding more layers and so on."
      ]
    },
    {
      "cell_type": "code",
      "metadata": {
        "id": "0qtvqaHjKjSR",
        "colab_type": "code",
        "colab": {}
      },
      "source": [
        "class SiameseNetwork(nn.Module):\n",
        "    def __init__(self):\n",
        "        super(SiameseNetwork, self).__init__()\n",
        "        self.cnn1 = nn.Sequential(\n",
        "            nn.ReflectionPad2d(1),\n",
        "            nn.Conv2d(1, 4, kernel_size=3),\n",
        "            nn.ReLU(inplace=True),\n",
        "            nn.BatchNorm2d(4),\n",
        "            \n",
        "            nn.ReflectionPad2d(1),\n",
        "            nn.Conv2d(4, 8, kernel_size=3),\n",
        "            nn.ReLU(inplace=True),\n",
        "            nn.BatchNorm2d(8),\n",
        "\n",
        "\n",
        "            nn.ReflectionPad2d(1),\n",
        "            nn.Conv2d(8, 8, kernel_size=3),\n",
        "            nn.ReLU(inplace=True),\n",
        "            nn.BatchNorm2d(8),\n",
        "\n",
        "\n",
        "        )\n",
        "\n",
        "        self.fc1 = nn.Sequential(\n",
        "            nn.Linear(8*100*100, 500),\n",
        "            nn.ReLU(inplace=True),\n",
        "\n",
        "            nn.Linear(500, 500),\n",
        "            nn.ReLU(inplace=True),\n",
        "\n",
        "            nn.Linear(500, 5))\n",
        "\n",
        "    def forward_once(self, x):\n",
        "        output = self.cnn1(x)\n",
        "        output = output.view(output.size()[0], -1)\n",
        "        output = self.fc1(output)\n",
        "        return output\n",
        "\n",
        "    def forward(self, input1, input2):\n",
        "        output1 = self.forward_once(input1)\n",
        "        output2 = self.forward_once(input2)\n",
        "        return output1, output2\n",
        "        "
      ],
      "execution_count": 0,
      "outputs": []
    },
    {
      "cell_type": "markdown",
      "metadata": {
        "id": "rtETbBhICRle",
        "colab_type": "text"
      },
      "source": [
        "## Contrastive loss function\n",
        "\n",
        "Here we define the contrastive loss."
      ]
    },
    {
      "cell_type": "code",
      "metadata": {
        "id": "as_ZMSzVKnHj",
        "colab_type": "code",
        "colab": {}
      },
      "source": [
        "class ContrastiveLoss(torch.nn.Module):\n",
        "    \"\"\"\n",
        "    Contrastive loss function.\n",
        "    Based on: http://yann.lecun.com/exdb/publis/pdf/hadsell-chopra-lecun-06.pdf\n",
        "    \"\"\"\n",
        "\n",
        "    def __init__(self, margin=2.0):\n",
        "        super(ContrastiveLoss, self).__init__()\n",
        "        self.margin = margin\n",
        "\n",
        "    def forward(self, output1, output2, label):\n",
        "        euclidean_distance = F.pairwise_distance(\n",
        "            output1, output2, keepdim = True)\n",
        "        loss_contrastive = torch.mean((1-label) * torch.pow(euclidean_distance, 2) + \n",
        "                                      (label) * torch.pow(torch.clamp(self.margin - euclidean_distance, min=0.0), 2))\n",
        "        return loss_contrastive"
      ],
      "execution_count": 0,
      "outputs": []
    },
    {
      "cell_type": "markdown",
      "metadata": {
        "colab_type": "text",
        "id": "iFjQUx_QeJRn"
      },
      "source": [
        "## Training the neural network\n",
        "\n",
        "The next three blocks configure all of the variables and settings for training the neural network. You might want to experiment with changing the values of the Adam optimizer."
      ]
    },
    {
      "cell_type": "code",
      "metadata": {
        "id": "Or4xt6VDKp2H",
        "colab_type": "code",
        "colab": {}
      },
      "source": [
        "train_dataloader = DataLoader(\n",
        "    pairwise_siamese_dataset,\n",
        "    shuffle=False,\n",
        "    num_workers=Config.num_generator_workers,\n",
        "    batch_size=Config.train_batch_size)"
      ],
      "execution_count": 0,
      "outputs": []
    },
    {
      "cell_type": "code",
      "metadata": {
        "id": "xnRiUE3nKuqe",
        "colab_type": "code",
        "colab": {}
      },
      "source": [
        "net = SiameseNetwork().cuda()\n",
        "criterion = ContrastiveLoss()\n",
        "optimizer = optim.Adam(net.parameters(),lr = 0.00006 )"
      ],
      "execution_count": 0,
      "outputs": []
    },
    {
      "cell_type": "code",
      "metadata": {
        "id": "04O3bd3SCiXG",
        "colab_type": "code",
        "colab": {}
      },
      "source": [
        "counter = []\n",
        "loss_history = [] \n",
        "iteration_number= 0"
      ],
      "execution_count": 0,
      "outputs": []
    },
    {
      "cell_type": "markdown",
      "metadata": {
        "id": "I7YqWETMC1Zl",
        "colab_type": "text"
      },
      "source": [
        "### Start the training\n",
        "\n",
        "This next block will start the training for the number of epochs set at the start of the notebook in the configuration block. The code is slightly modified so that filenames get stored for the images."
      ]
    },
    {
      "cell_type": "code",
      "metadata": {
        "id": "fA0y-hd7K5et",
        "colab_type": "code",
        "colab": {}
      },
      "source": [
        "\n",
        "for epoch in range(0,Config.train_number_epochs):\n",
        "    for i, data in enumerate(train_dataloader,0):\n",
        "\t\t# Modifications by Tim Sherrat, to enable path printing\n",
        "        # Note the underscores! They're the path values, \n",
        "        # which we don't actually want here\n",
        "\t\t# Underscores are used as variable names for things we don't actually \n",
        "        # want\n",
        "        img0, img1 , label, _, _ = data\n",
        "        img0, img1 , label = img0.cuda(), img1.cuda() , label.cuda()\n",
        "        optimizer.zero_grad()\n",
        "        output1,output2 = net(img0,img1)\n",
        "        #print(output1)\n",
        "        #print(output2)\n",
        "        loss_contrastive = criterion(output1,output2,label)\n",
        "        loss_contrastive.backward()\n",
        "        optimizer.step()\n",
        "        if i %10 == 0 :\n",
        "            print(\"Epoch number {}\\n Current loss {}\\n\".format(\n",
        "                epoch,loss_contrastive.item()))\n",
        "            iteration_number +=10\n",
        "            counter.append(iteration_number)\n",
        "            loss_history.append(loss_contrastive.item())\n",
        "show_plot(counter,loss_history)"
      ],
      "execution_count": 0,
      "outputs": []
    },
    {
      "cell_type": "markdown",
      "metadata": {
        "id": "sKVPWER5DJVS",
        "colab_type": "text"
      },
      "source": [
        "## Save the model\n",
        "\n",
        "The block below saves the state dictionary, and the model. This is handy so that once you *have* a trained model, you can return to it if your notebook connection to Colab is broken, or if you have to set the project aside for a while. The second block copies (`cp`) the file to a location on Google drive. You can also download the file to your machine directly by right-clicking the filename in the tray at left (you might need to hit 'refresh' to see it, first)."
      ]
    },
    {
      "cell_type": "code",
      "metadata": {
        "id": "wXTopDCEhyy5",
        "colab_type": "code",
        "colab": {}
      },
      "source": [
        "# Save the model!\n",
        "torch.save(net.state_dict(),'net_params.pkl')\n",
        "torch.save(net, 'net.h5')"
      ],
      "execution_count": 0,
      "outputs": []
    },
    {
      "cell_type": "code",
      "metadata": {
        "id": "f2QLT90P6eNb",
        "colab_type": "code",
        "colab": {}
      },
      "source": [
        "cp net_params.pkl \"drive/My Drive/one-shot-test\""
      ],
      "execution_count": 0,
      "outputs": []
    },
    {
      "cell_type": "markdown",
      "metadata": {
        "id": "sizl8QETDvAg",
        "colab_type": "text"
      },
      "source": [
        "## Reloading the model at a later time\n",
        "\n",
        "If this is your first time through the notebook, you don't need to worry about this; skip down to **Testing**. If you're returning to the project, make sure\n",
        "+ that you've got hardware acceleration turned on\n",
        "+ that you've run all of the code again to import the necessary libraries, and set the various configurations \n",
        "  + _including_ the SiameseNetwork class\n",
        "\n",
        "The block below assumes you've connected Google drive. Alternatively you can upload directly."
      ]
    },
    {
      "cell_type": "code",
      "metadata": {
        "id": "oCbuAtMOigQ6",
        "colab_type": "code",
        "colab": {}
      },
      "source": [
        "# Copy the model back from your drive\n",
        "!cp \"drive/My Drive/one-shot-test/net_params.pkl\" net_params.pkl"
      ],
      "execution_count": 0,
      "outputs": []
    },
    {
      "cell_type": "markdown",
      "metadata": {
        "id": "KLQ_aEcCERPI",
        "colab_type": "text"
      },
      "source": [
        "...then tell the machine to load the model:"
      ]
    },
    {
      "cell_type": "code",
      "metadata": {
        "id": "YvKhEPhr7oqu",
        "colab_type": "code",
        "colab": {}
      },
      "source": [
        "# Load the model\n",
        "net=SiameseNetwork()\n",
        "net.load_state_dict(torch.load('net_params.pkl'))\n",
        "dp = nn.DataParallel(net) #https://github.com/pytorch/pytorch/issues/3805\n",
        "\n",
        "# The incompatiblekeys message might not be an issue - see\n",
        "# https://gpytorch.readthedocs.io/en/latest/examples/00_Basic_Usage/Saving_and_Loading_Models.html \n",
        "# which replicates that incompatiblekeys message without any kind of comment, \n",
        "# seems to be hunkydory"
      ],
      "execution_count": 0,
      "outputs": []
    },
    {
      "cell_type": "markdown",
      "metadata": {
        "id": "2LLQYb1LErDI",
        "colab_type": "text"
      },
      "source": [
        "## Testing\n",
        "\n",
        "This block iteratively loads pairs of images with known provenance versus unknown provenance from different subfolders in your testing folder. It then compares the results of these anchor-unknown pairs using euclidean distance. It will print out the images with the dissimilarity distance, as well as printing out the filenames for each pair. You can experiment with printing these results to a file.\n",
        "\n",
        "Since this code currently outputs all anchor-unknown pairs, the runtime is __O(n^2)__."
      ]
    },
    {
      "cell_type": "code",
      "metadata": {
        "id": "oA4QpoRCLgSK",
        "colab_type": "code",
        "colab": {
          "base_uri": "https://localhost:8080/",
          "height": 1000
        },
        "outputId": "b9b606b5-d05f-4f01-f477-95344178e3ab"
      },
      "source": [
        "#Time code snippet\n",
        "#https://stackoverflow.com/questions/1557571/how-do-i-get-time-of-a-python-programs-execution\n",
        "import time\n",
        "start_time = time.time()\n",
        "\n",
        "# Init variable representing testing data's directory, \n",
        "# see Config section to specify path\n",
        "folder_dataset_test = dset.ImageFolder(root=Config.testing_dir)\n",
        "\n",
        "# Create the dataset, pairwise_siamese_dataset_anchors, with data from the \n",
        "# testing data\n",
        "# Then, create a generator with pairwise_siamese_dataset-unknowns\n",
        "pairwise_siamese_dataset_anchors = PairwiseTestingSiameseNetworkDataset(\n",
        "    imageFolderDataset=folder_dataset_test,\n",
        "    transform=transforms.Compose([transforms.Resize((100,100)),\n",
        "                                transforms.ToTensor()]),\n",
        "    should_invert=False,\n",
        "    anchor_iter_index=0, \n",
        "    anchor_file_identifier='ref-')\n",
        "\n",
        "test_dataloader = DataLoader(\n",
        "    pairwise_siamese_dataset_anchors,\n",
        "    num_workers=Config.num_generator_workers,\n",
        "    batch_size=1,\n",
        "    shuffle=False,\n",
        "    worker_init_fn=worker_init_fn)\n",
        "\n",
        "generator_anchor_images = iter(test_dataloader)\n",
        "\n",
        "workers_terminated_outer = np.zeros(Config.num_generator_workers)\n",
        "# Outer loop searches for anchors\n",
        "for i in range(len(generator_anchor_images)):\n",
        "\n",
        "    # Returns a found anchor's index, image, and filepath\n",
        "    anchor_index,worker_id_outer,anchor_image,_,anchor_filepath,_ = next(\n",
        "        generator_anchor_images)\n",
        "    # Stop outer loop if index is out of bounds, no more potential anchors\n",
        "    if not(0 in workers_terminated_outer):\n",
        "        break\n",
        "\n",
        "    if anchor_index.item() < 0:\n",
        "        np.put(workers_terminated_outer, worker_id_outer, 1)\n",
        "    else:\n",
        "        # Create new dataset with a given known anchor's index\n",
        "        # Then, create a generator with pairwise_siamese_dataset-unknowns\n",
        "        pairwise_siamese_dataset_unknowns = PairwiseTestingSiameseNetworkDataset2(\n",
        "            imageFolderDataset=folder_dataset_test,\n",
        "            transform=transforms.Compose([transforms.Resize((100,100)),\n",
        "                                          transforms.ToTensor()]),\n",
        "            should_invert=False,\n",
        "            anchor_iter_index=anchor_index, \n",
        "            anchor_file_identifier='ref-')\n",
        "      \n",
        "        compare_dataloader = test_dataloader = DataLoader(\n",
        "            pairwise_siamese_dataset_unknowns,\n",
        "            num_workers=Config.num_generator_workers,\n",
        "            batch_size=1,shuffle=False,\n",
        "            worker_init_fn=worker_init_fn)\n",
        "      \n",
        "        generator_unknown_prov_images = iter(compare_dataloader)\n",
        "\n",
        "        workers_terminated_inner = np.zeros(Config.num_generator_workers)\n",
        "        # Inner loop pairs a known anchor with every image of unknown provenance\n",
        "        for k in range(len(generator_unknown_prov_images)):\n",
        "            # no_more_unknowns will return -1 if all pairs have been found\n",
        "            no_more_unknowns,worker_id_inner,_,unknown_prov_image,_,unknown_prov_filepath = (\n",
        "                next(generator_unknown_prov_images))\n",
        "\n",
        "            # Stop this inner loop if all anchor-unknown pairs for the current \n",
        "            # anchor image are found\n",
        "            if not(0 in workers_terminated_inner):\n",
        "                break\n",
        "\n",
        "            if no_more_unknowns.item() < 0:\n",
        "                np.put(workers_terminated_inner, worker_id_inner, 1)\n",
        "            else:\n",
        "                concatenated = torch.cat((anchor_image,unknown_prov_image),0)\n",
        "\n",
        "                # Again getting rid of cuda for my Mac\n",
        "                output1,output2 = net(\n",
        "                    Variable(anchor_image).cuda(),\n",
        "                    Variable(unknown_prov_image).cuda())\n",
        "                # output1,output2 = net(Variable(x0),Variable(x1))\n",
        "                euclidean_distance = F.pairwise_distance(output1, output2)\n",
        "\n",
        "                # Show the images:\n",
        "                #imshow(\n",
        "                #    torchvision.utils.make_grid(concatenated),\n",
        "                #    'Dissimilarity: {:.2f}'.format(euclidean_distance.item()))\n",
        "\n",
        "                # Show the paths for the two images\n",
        "                print('Image 1: {}'.format(anchor_filepath[0])) \n",
        "                print('Image 2: {}'.format(unknown_prov_filepath[0]))\n",
        "                print('Dissimilarity: {:.2f}'.format(euclidean_distance.item()))\n",
        "                # Print out the results as a kind of table.\n",
        "                # from tabulate import tabulate\n",
        "                # print(tabulate([[p0, p1,euclidean_distance.item()]], \n",
        "                    # headers=['image1', 'image2','euclidean_distance']))\n",
        "        \n",
        "        # Ensures each worker generates unique pair\n",
        "        # nth loop iteration \n",
        "        # * number of workers \n",
        "        # + this worker's ID (added in init)\n",
        "        #next_index_to_check = Config.num_generator_workers+anchor_index.item()\n",
        "        #anchor_index = torch.tensor(next_index_to_check)\n",
        "\n",
        "print('Finshed all anchor-unknown pair comparisons')\n",
        "print(\"--- %s seconds ---\" % (time.time() - start_time))"
      ],
      "execution_count": 26,
      "outputs": [
        {
          "output_type": "stream",
          "text": [
            "Image 1: data/data/testing/ref-female-afr-american/bc-178-female-afr-american-removebg-preview.png\n",
            "Image 2: data/data/testing/11324-dh/Screen_Shot_2019-06-20_at_1-removebg-preview.png\n",
            "Dissimilarity: 0.48\n",
            "Image 1: data/data/testing/ref-female-afr-american/bc-178-female-afr-american-removebg-preview.png\n",
            "Image 2: data/data/testing/RichardIII/richardIII.png\n",
            "Dissimilarity: 1.30\n",
            "Image 1: data/data/testing/ref-female-afr-american/bc-178-female-afr-american-removebg-preview.png\n",
            "Image 2: data/data/testing/afr-f-moraitas/african-f-moraitas.png\n",
            "Dissimilarity: 0.32\n",
            "Image 1: data/data/testing/ref-female-afr-american/bc-178-female-afr-american-removebg-preview.png\n",
            "Image 2: data/data/testing/asian-f-moraitas/asian-f-moraitas.png\n",
            "Dissimilarity: 0.69\n",
            "Image 1: data/data/testing/ref-female-afr-american/bc-178-female-afr-american-removebg-preview.png\n",
            "Image 2: data/data/testing/asian-f-woo/asian-f-woo.png\n",
            "Dissimilarity: 0.56\n",
            "Image 1: data/data/testing/ref-female-afr-american/bc-178-female-afr-american-removebg-preview.png\n",
            "Image 2: data/data/testing/asian-m-woo/asian-m-woo.png\n",
            "Dissimilarity: 0.68\n",
            "Image 1: data/data/testing/ref-female-afr-american/bc-178-female-afr-american-removebg-preview.png\n",
            "Image 2: data/data/testing/cas-fig-4-1-afr-am-f/cas-fig4-1-afr-am-f.png\n",
            "Dissimilarity: 0.46\n",
            "Image 1: data/data/testing/ref-female-afr-american/bc-178-female-afr-american-removebg-preview.png\n",
            "Image 2: data/data/testing/cas-fig-4-1-afr-am-m/cas-fig4-1-afr-am-m.png\n",
            "Dissimilarity: 0.55\n",
            "Image 1: data/data/testing/ref-female-afr-american/bc-178-female-afr-american-removebg-preview.png\n",
            "Image 2: data/data/testing/cas-fig-4-2-afr-f/cas-fig4-2-afr-f.png\n",
            "Dissimilarity: 0.49\n",
            "Image 1: data/data/testing/ref-female-afr-american/bc-178-female-afr-american-removebg-preview.png\n",
            "Image 2: data/data/testing/cas-fig-4-2-afr-m/cas-fig4-2-afr-m.png\n",
            "Dissimilarity: 0.54\n",
            "Image 1: data/data/testing/ref-female-afr-american/bc-178-female-afr-american-removebg-preview.png\n",
            "Image 2: data/data/testing/cas-fig-4-3-euro-am-f/cas-fig-4-3-euro-am-f.png\n",
            "Dissimilarity: 0.27\n",
            "Image 1: data/data/testing/ref-female-afr-american/bc-178-female-afr-american-removebg-preview.png\n",
            "Image 2: data/data/testing/cas-fig-4-3-euro-am-m/cas-fig-4-3-euro-am-m.png\n",
            "Dissimilarity: 0.55\n",
            "Image 1: data/data/testing/ref-female-afr-american/bc-178-female-afr-american-removebg-preview.png\n",
            "Image 2: data/data/testing/fountain-street-male/fountain-street-male-PA-SK-1559.png\n",
            "Dissimilarity: 0.79\n",
            "Image 1: data/data/testing/ref-female-afr-american/bc-178-female-afr-american-removebg-preview.png\n",
            "Image 2: data/data/testing/london-christopher-le-stocks-female/female.png\n",
            "Dissimilarity: 0.59\n",
            "Image 1: data/data/testing/ref-female-afr-american/bc-178-female-afr-american-removebg-preview.png\n",
            "Image 2: data/data/testing/magdalen-winchester/magdalen-winchester.png\n",
            "Dissimilarity: 0.64\n",
            "Image 1: data/data/testing/ref-female-afr-american/bc-178-female-afr-american-removebg-preview.png\n",
            "Image 2: data/data/testing/si-male-jamestown/A0385-LSG-APV-5041B-male-jamestown.png\n",
            "Dissimilarity: 0.78\n",
            "Image 1: data/data/testing/ref-female-afr-american/bc-178-female-afr-american-removebg-preview.png\n",
            "Image 2: data/data/testing/si-woman-1660/si-woman-1660-18CV271-JP-100.png\n",
            "Dissimilarity: 0.57\n",
            "Image 1: data/data/testing/ref-female-afr-american/bc-178-female-afr-american-removebg-preview.png\n",
            "Image 2: data/data/testing/st-augustine-black-male/STAUGUSTINE-SI-385791-black-male.png\n",
            "Dissimilarity: 0.47\n",
            "Image 1: data/data/testing/ref-female-afr-american/bc-178-female-afr-american-removebg-preview.png\n",
            "Image 2: data/data/testing/vendor-a/vendor-a.png\n",
            "Dissimilarity: 0.61\n",
            "Image 1: data/data/testing/ref-female-afr-american/bc-178-female-afr-american-removebg-preview.png\n",
            "Image 2: data/data/testing/vendor-b/vendor-b.png\n",
            "Dissimilarity: 0.74\n",
            "Image 1: data/data/testing/ref-female-afr-american/bc-178-female-afr-american-removebg-preview.png\n",
            "Image 2: data/data/testing/vendor-c/vendor-c.png\n",
            "Dissimilarity: 0.38\n",
            "Image 1: data/data/testing/ref-female-afr-american/bc-178-female-afr-american-removebg-preview.png\n",
            "Image 2: data/data/testing/vendor-d/vendor_d.png\n",
            "Dissimilarity: 0.30\n",
            "Image 1: data/data/testing/ref-female-afr-american/bc-178-female-afr-american-removebg-preview.png\n",
            "Image 2: data/data/testing/vendor-e/vendor-e-toulouse.png\n",
            "Dissimilarity: 0.24\n",
            "Image 1: data/data/testing/ref-female-afr-american/bc-178-female-afr-american-removebg-preview.png\n",
            "Image 2: data/data/testing/vendor-f/vendor-f-female-india.png\n",
            "Dissimilarity: 0.43\n",
            "Image 1: data/data/testing/ref-female-afr-american/bc-178-female-afr-american-removebg-preview.png\n",
            "Image 2: data/data/testing/vendor-g/vendor-g.png\n",
            "Dissimilarity: 0.65\n",
            "Image 1: data/data/testing/ref-female-afr-american/bc-178-female-afr-american-removebg-preview.png\n",
            "Image 2: data/data/testing/vendor-h/vendor-h-male-india.png\n",
            "Dissimilarity: 0.52\n",
            "Image 1: data/data/testing/ref-female-asian/bc-211-female-asian-removebg-preview.png\n",
            "Image 2: data/data/testing/11324-dh/Screen_Shot_2019-06-20_at_1-removebg-preview.png\n",
            "Dissimilarity: 0.30\n",
            "Image 1: data/data/testing/ref-female-asian/bc-211-female-asian-removebg-preview.png\n",
            "Image 2: data/data/testing/RichardIII/richardIII.png\n",
            "Dissimilarity: 1.47\n",
            "Image 1: data/data/testing/ref-female-asian/bc-211-female-asian-removebg-preview.png\n",
            "Image 2: data/data/testing/afr-f-moraitas/african-f-moraitas.png\n",
            "Dissimilarity: 0.35\n",
            "Image 1: data/data/testing/ref-female-asian/bc-211-female-asian-removebg-preview.png\n",
            "Image 2: data/data/testing/asian-f-moraitas/asian-f-moraitas.png\n",
            "Dissimilarity: 0.86\n",
            "Image 1: data/data/testing/ref-female-asian/bc-211-female-asian-removebg-preview.png\n",
            "Image 2: data/data/testing/asian-f-woo/asian-f-woo.png\n",
            "Dissimilarity: 0.48\n",
            "Image 1: data/data/testing/ref-female-asian/bc-211-female-asian-removebg-preview.png\n",
            "Image 2: data/data/testing/asian-m-woo/asian-m-woo.png\n",
            "Dissimilarity: 0.59\n",
            "Image 1: data/data/testing/ref-female-asian/bc-211-female-asian-removebg-preview.png\n",
            "Image 2: data/data/testing/cas-fig-4-1-afr-am-f/cas-fig4-1-afr-am-f.png\n",
            "Dissimilarity: 0.53\n",
            "Image 1: data/data/testing/ref-female-asian/bc-211-female-asian-removebg-preview.png\n",
            "Image 2: data/data/testing/cas-fig-4-1-afr-am-m/cas-fig4-1-afr-am-m.png\n",
            "Dissimilarity: 0.67\n",
            "Image 1: data/data/testing/ref-female-asian/bc-211-female-asian-removebg-preview.png\n",
            "Image 2: data/data/testing/cas-fig-4-2-afr-f/cas-fig4-2-afr-f.png\n",
            "Dissimilarity: 0.64\n",
            "Image 1: data/data/testing/ref-female-asian/bc-211-female-asian-removebg-preview.png\n",
            "Image 2: data/data/testing/cas-fig-4-2-afr-m/cas-fig4-2-afr-m.png\n",
            "Dissimilarity: 0.70\n",
            "Image 1: data/data/testing/ref-female-asian/bc-211-female-asian-removebg-preview.png\n",
            "Image 2: data/data/testing/cas-fig-4-3-euro-am-f/cas-fig-4-3-euro-am-f.png\n",
            "Dissimilarity: 0.34\n",
            "Image 1: data/data/testing/ref-female-asian/bc-211-female-asian-removebg-preview.png\n",
            "Image 2: data/data/testing/cas-fig-4-3-euro-am-m/cas-fig-4-3-euro-am-m.png\n",
            "Dissimilarity: 0.62\n",
            "Image 1: data/data/testing/ref-female-asian/bc-211-female-asian-removebg-preview.png\n",
            "Image 2: data/data/testing/fountain-street-male/fountain-street-male-PA-SK-1559.png\n",
            "Dissimilarity: 0.76\n",
            "Image 1: data/data/testing/ref-female-asian/bc-211-female-asian-removebg-preview.png\n",
            "Image 2: data/data/testing/london-christopher-le-stocks-female/female.png\n",
            "Dissimilarity: 0.61\n",
            "Image 1: data/data/testing/ref-female-asian/bc-211-female-asian-removebg-preview.png\n",
            "Image 2: data/data/testing/magdalen-winchester/magdalen-winchester.png\n",
            "Dissimilarity: 0.73\n",
            "Image 1: data/data/testing/ref-female-asian/bc-211-female-asian-removebg-preview.png\n",
            "Image 2: data/data/testing/si-male-jamestown/A0385-LSG-APV-5041B-male-jamestown.png\n",
            "Dissimilarity: 0.87\n",
            "Image 1: data/data/testing/ref-female-asian/bc-211-female-asian-removebg-preview.png\n",
            "Image 2: data/data/testing/si-woman-1660/si-woman-1660-18CV271-JP-100.png\n",
            "Dissimilarity: 0.65\n",
            "Image 1: data/data/testing/ref-female-asian/bc-211-female-asian-removebg-preview.png\n",
            "Image 2: data/data/testing/st-augustine-black-male/STAUGUSTINE-SI-385791-black-male.png\n",
            "Dissimilarity: 0.58\n",
            "Image 1: data/data/testing/ref-female-asian/bc-211-female-asian-removebg-preview.png\n",
            "Image 2: data/data/testing/vendor-a/vendor-a.png\n",
            "Dissimilarity: 0.62\n",
            "Image 1: data/data/testing/ref-female-asian/bc-211-female-asian-removebg-preview.png\n",
            "Image 2: data/data/testing/vendor-b/vendor-b.png\n",
            "Dissimilarity: 0.95\n",
            "Image 1: data/data/testing/ref-female-asian/bc-211-female-asian-removebg-preview.png\n",
            "Image 2: data/data/testing/vendor-c/vendor-c.png\n",
            "Dissimilarity: 0.56\n",
            "Image 1: data/data/testing/ref-female-asian/bc-211-female-asian-removebg-preview.png\n",
            "Image 2: data/data/testing/vendor-d/vendor_d.png\n",
            "Dissimilarity: 0.43\n",
            "Image 1: data/data/testing/ref-female-asian/bc-211-female-asian-removebg-preview.png\n",
            "Image 2: data/data/testing/vendor-e/vendor-e-toulouse.png\n",
            "Dissimilarity: 0.43\n",
            "Image 1: data/data/testing/ref-female-asian/bc-211-female-asian-removebg-preview.png\n",
            "Image 2: data/data/testing/vendor-f/vendor-f-female-india.png\n",
            "Dissimilarity: 0.49\n",
            "Image 1: data/data/testing/ref-female-asian/bc-211-female-asian-removebg-preview.png\n",
            "Image 2: data/data/testing/vendor-g/vendor-g.png\n",
            "Dissimilarity: 0.75\n",
            "Image 1: data/data/testing/ref-female-asian/bc-211-female-asian-removebg-preview.png\n",
            "Image 2: data/data/testing/vendor-h/vendor-h-male-india.png\n",
            "Dissimilarity: 0.61\n",
            "Image 1: data/data/testing/ref-female-european/bcm-891-female-euro-removebg-preview.png\n",
            "Image 2: data/data/testing/11324-dh/Screen_Shot_2019-06-20_at_1-removebg-preview.png\n",
            "Dissimilarity: 0.97\n",
            "Image 1: data/data/testing/ref-female-european/bcm-891-female-euro-removebg-preview.png\n",
            "Image 2: data/data/testing/RichardIII/richardIII.png\n",
            "Dissimilarity: 0.95\n",
            "Image 1: data/data/testing/ref-female-european/bcm-891-female-euro-removebg-preview.png\n",
            "Image 2: data/data/testing/afr-f-moraitas/african-f-moraitas.png\n",
            "Dissimilarity: 0.70\n",
            "Image 1: data/data/testing/ref-female-european/bcm-891-female-euro-removebg-preview.png\n",
            "Image 2: data/data/testing/asian-f-moraitas/asian-f-moraitas.png\n",
            "Dissimilarity: 0.43\n",
            "Image 1: data/data/testing/ref-female-european/bcm-891-female-euro-removebg-preview.png\n",
            "Image 2: data/data/testing/asian-f-woo/asian-f-woo.png\n",
            "Dissimilarity: 0.97\n",
            "Image 1: data/data/testing/ref-female-european/bcm-891-female-euro-removebg-preview.png\n",
            "Image 2: data/data/testing/asian-m-woo/asian-m-woo.png\n",
            "Dissimilarity: 1.07\n",
            "Image 1: data/data/testing/ref-female-european/bcm-891-female-euro-removebg-preview.png\n",
            "Image 2: data/data/testing/cas-fig-4-1-afr-am-f/cas-fig4-1-afr-am-f.png\n",
            "Dissimilarity: 0.70\n",
            "Image 1: data/data/testing/ref-female-european/bcm-891-female-euro-removebg-preview.png\n",
            "Image 2: data/data/testing/cas-fig-4-1-afr-am-m/cas-fig4-1-afr-am-m.png\n",
            "Dissimilarity: 0.64\n",
            "Image 1: data/data/testing/ref-female-european/bcm-891-female-euro-removebg-preview.png\n",
            "Image 2: data/data/testing/cas-fig-4-2-afr-f/cas-fig4-2-afr-f.png\n",
            "Dissimilarity: 0.46\n",
            "Image 1: data/data/testing/ref-female-european/bcm-891-female-euro-removebg-preview.png\n",
            "Image 2: data/data/testing/cas-fig-4-2-afr-m/cas-fig4-2-afr-m.png\n",
            "Dissimilarity: 0.49\n",
            "Image 1: data/data/testing/ref-female-european/bcm-891-female-euro-removebg-preview.png\n",
            "Image 2: data/data/testing/cas-fig-4-3-euro-am-f/cas-fig-4-3-euro-am-f.png\n",
            "Dissimilarity: 0.53\n",
            "Image 1: data/data/testing/ref-female-european/bcm-891-female-euro-removebg-preview.png\n",
            "Image 2: data/data/testing/cas-fig-4-3-euro-am-m/cas-fig-4-3-euro-am-m.png\n",
            "Dissimilarity: 0.70\n",
            "Image 1: data/data/testing/ref-female-european/bcm-891-female-euro-removebg-preview.png\n",
            "Image 2: data/data/testing/fountain-street-male/fountain-street-male-PA-SK-1559.png\n",
            "Dissimilarity: 1.09\n",
            "Image 1: data/data/testing/ref-female-european/bcm-891-female-euro-removebg-preview.png\n",
            "Image 2: data/data/testing/london-christopher-le-stocks-female/female.png\n",
            "Dissimilarity: 0.89\n",
            "Image 1: data/data/testing/ref-female-european/bcm-891-female-euro-removebg-preview.png\n",
            "Image 2: data/data/testing/magdalen-winchester/magdalen-winchester.png\n",
            "Dissimilarity: 0.63\n",
            "Image 1: data/data/testing/ref-female-european/bcm-891-female-euro-removebg-preview.png\n",
            "Image 2: data/data/testing/si-male-jamestown/A0385-LSG-APV-5041B-male-jamestown.png\n",
            "Dissimilarity: 0.70\n",
            "Image 1: data/data/testing/ref-female-european/bcm-891-female-euro-removebg-preview.png\n",
            "Image 2: data/data/testing/si-woman-1660/si-woman-1660-18CV271-JP-100.png\n",
            "Dissimilarity: 0.64\n",
            "Image 1: data/data/testing/ref-female-european/bcm-891-female-euro-removebg-preview.png\n",
            "Image 2: data/data/testing/st-augustine-black-male/STAUGUSTINE-SI-385791-black-male.png\n",
            "Dissimilarity: 0.68\n",
            "Image 1: data/data/testing/ref-female-european/bcm-891-female-euro-removebg-preview.png\n",
            "Image 2: data/data/testing/vendor-a/vendor-a.png\n",
            "Dissimilarity: 0.87\n",
            "Image 1: data/data/testing/ref-female-european/bcm-891-female-euro-removebg-preview.png\n",
            "Image 2: data/data/testing/vendor-b/vendor-b.png\n",
            "Dissimilarity: 0.41\n",
            "Image 1: data/data/testing/ref-female-european/bcm-891-female-euro-removebg-preview.png\n",
            "Image 2: data/data/testing/vendor-c/vendor-c.png\n",
            "Dissimilarity: 0.29\n",
            "Image 1: data/data/testing/ref-female-european/bcm-891-female-euro-removebg-preview.png\n",
            "Image 2: data/data/testing/vendor-d/vendor_d.png\n",
            "Dissimilarity: 0.48\n",
            "Image 1: data/data/testing/ref-female-european/bcm-891-female-euro-removebg-preview.png\n",
            "Image 2: data/data/testing/vendor-e/vendor-e-toulouse.png\n",
            "Dissimilarity: 0.42\n",
            "Image 1: data/data/testing/ref-female-european/bcm-891-female-euro-removebg-preview.png\n",
            "Image 2: data/data/testing/vendor-f/vendor-f-female-india.png\n",
            "Dissimilarity: 0.64\n",
            "Image 1: data/data/testing/ref-female-european/bcm-891-female-euro-removebg-preview.png\n",
            "Image 2: data/data/testing/vendor-g/vendor-g.png\n",
            "Dissimilarity: 0.56\n",
            "Image 1: data/data/testing/ref-female-european/bcm-891-female-euro-removebg-preview.png\n",
            "Image 2: data/data/testing/vendor-h/vendor-h-male-india.png\n",
            "Dissimilarity: 0.50\n",
            "Image 1: data/data/testing/ref-male-afr-american/african-american-male-bc-110.png\n",
            "Image 2: data/data/testing/11324-dh/Screen_Shot_2019-06-20_at_1-removebg-preview.png\n",
            "Dissimilarity: 0.29\n",
            "Image 1: data/data/testing/ref-male-afr-american/african-american-male-bc-110.png\n",
            "Image 2: data/data/testing/RichardIII/richardIII.png\n",
            "Dissimilarity: 1.36\n",
            "Image 1: data/data/testing/ref-male-afr-american/african-american-male-bc-110.png\n",
            "Image 2: data/data/testing/afr-f-moraitas/african-f-moraitas.png\n",
            "Dissimilarity: 0.27\n",
            "Image 1: data/data/testing/ref-male-afr-american/african-american-male-bc-110.png\n",
            "Image 2: data/data/testing/asian-f-moraitas/asian-f-moraitas.png\n",
            "Dissimilarity: 0.80\n",
            "Image 1: data/data/testing/ref-male-afr-american/african-american-male-bc-110.png\n",
            "Image 2: data/data/testing/asian-f-woo/asian-f-woo.png\n",
            "Dissimilarity: 0.21\n",
            "Image 1: data/data/testing/ref-male-afr-american/african-american-male-bc-110.png\n",
            "Image 2: data/data/testing/asian-m-woo/asian-m-woo.png\n",
            "Dissimilarity: 0.32\n",
            "Image 1: data/data/testing/ref-male-afr-american/african-american-male-bc-110.png\n",
            "Image 2: data/data/testing/cas-fig-4-1-afr-am-f/cas-fig4-1-afr-am-f.png\n",
            "Dissimilarity: 0.49\n",
            "Image 1: data/data/testing/ref-male-afr-american/african-american-male-bc-110.png\n",
            "Image 2: data/data/testing/cas-fig-4-1-afr-am-m/cas-fig4-1-afr-am-m.png\n",
            "Dissimilarity: 0.61\n",
            "Image 1: data/data/testing/ref-male-afr-american/african-american-male-bc-110.png\n",
            "Image 2: data/data/testing/cas-fig-4-2-afr-f/cas-fig4-2-afr-f.png\n",
            "Dissimilarity: 0.58\n",
            "Image 1: data/data/testing/ref-male-afr-american/african-american-male-bc-110.png\n",
            "Image 2: data/data/testing/cas-fig-4-2-afr-m/cas-fig4-2-afr-m.png\n",
            "Dissimilarity: 0.65\n",
            "Image 1: data/data/testing/ref-male-afr-american/african-american-male-bc-110.png\n",
            "Image 2: data/data/testing/cas-fig-4-3-euro-am-f/cas-fig-4-3-euro-am-f.png\n",
            "Dissimilarity: 0.34\n",
            "Image 1: data/data/testing/ref-male-afr-american/african-american-male-bc-110.png\n",
            "Image 2: data/data/testing/cas-fig-4-3-euro-am-m/cas-fig-4-3-euro-am-m.png\n",
            "Dissimilarity: 0.41\n",
            "Image 1: data/data/testing/ref-male-afr-american/african-american-male-bc-110.png\n",
            "Image 2: data/data/testing/fountain-street-male/fountain-street-male-PA-SK-1559.png\n",
            "Dissimilarity: 0.44\n",
            "Image 1: data/data/testing/ref-male-afr-american/african-american-male-bc-110.png\n",
            "Image 2: data/data/testing/london-christopher-le-stocks-female/female.png\n",
            "Dissimilarity: 0.50\n",
            "Image 1: data/data/testing/ref-male-afr-american/african-american-male-bc-110.png\n",
            "Image 2: data/data/testing/magdalen-winchester/magdalen-winchester.png\n",
            "Dissimilarity: 0.55\n",
            "Image 1: data/data/testing/ref-male-afr-american/african-american-male-bc-110.png\n",
            "Image 2: data/data/testing/si-male-jamestown/A0385-LSG-APV-5041B-male-jamestown.png\n",
            "Dissimilarity: 0.64\n",
            "Image 1: data/data/testing/ref-male-afr-american/african-american-male-bc-110.png\n",
            "Image 2: data/data/testing/si-woman-1660/si-woman-1660-18CV271-JP-100.png\n",
            "Dissimilarity: 0.48\n",
            "Image 1: data/data/testing/ref-male-afr-american/african-american-male-bc-110.png\n",
            "Image 2: data/data/testing/st-augustine-black-male/STAUGUSTINE-SI-385791-black-male.png\n",
            "Dissimilarity: 0.53\n",
            "Image 1: data/data/testing/ref-male-afr-american/african-american-male-bc-110.png\n",
            "Image 2: data/data/testing/vendor-a/vendor-a.png\n",
            "Dissimilarity: 0.37\n",
            "Image 1: data/data/testing/ref-male-afr-american/african-american-male-bc-110.png\n",
            "Image 2: data/data/testing/vendor-b/vendor-b.png\n",
            "Dissimilarity: 1.03\n",
            "Image 1: data/data/testing/ref-male-afr-american/african-american-male-bc-110.png\n",
            "Image 2: data/data/testing/vendor-c/vendor-c.png\n",
            "Dissimilarity: 0.57\n",
            "Image 1: data/data/testing/ref-male-afr-american/african-american-male-bc-110.png\n",
            "Image 2: data/data/testing/vendor-d/vendor_d.png\n",
            "Dissimilarity: 0.54\n",
            "Image 1: data/data/testing/ref-male-afr-american/african-american-male-bc-110.png\n",
            "Image 2: data/data/testing/vendor-e/vendor-e-toulouse.png\n",
            "Dissimilarity: 0.63\n",
            "Image 1: data/data/testing/ref-male-afr-american/african-american-male-bc-110.png\n",
            "Image 2: data/data/testing/vendor-f/vendor-f-female-india.png\n",
            "Dissimilarity: 0.32\n",
            "Image 1: data/data/testing/ref-male-afr-american/african-american-male-bc-110.png\n",
            "Image 2: data/data/testing/vendor-g/vendor-g.png\n",
            "Dissimilarity: 0.58\n",
            "Image 1: data/data/testing/ref-male-afr-american/african-american-male-bc-110.png\n",
            "Image 2: data/data/testing/vendor-h/vendor-h-male-india.png\n",
            "Dissimilarity: 0.48\n",
            "Image 1: data/data/testing/ref-male-asian/male-asian-bc-253.png\n",
            "Image 2: data/data/testing/11324-dh/Screen_Shot_2019-06-20_at_1-removebg-preview.png\n",
            "Dissimilarity: 0.47\n",
            "Image 1: data/data/testing/ref-male-asian/male-asian-bc-253.png\n",
            "Image 2: data/data/testing/RichardIII/richardIII.png\n",
            "Dissimilarity: 1.28\n",
            "Image 1: data/data/testing/ref-male-asian/male-asian-bc-253.png\n",
            "Image 2: data/data/testing/afr-f-moraitas/african-f-moraitas.png\n",
            "Dissimilarity: 0.30\n",
            "Image 1: data/data/testing/ref-male-asian/male-asian-bc-253.png\n",
            "Image 2: data/data/testing/asian-f-moraitas/asian-f-moraitas.png\n",
            "Dissimilarity: 0.67\n",
            "Image 1: data/data/testing/ref-male-asian/male-asian-bc-253.png\n",
            "Image 2: data/data/testing/asian-f-woo/asian-f-woo.png\n",
            "Dissimilarity: 0.50\n",
            "Image 1: data/data/testing/ref-male-asian/male-asian-bc-253.png\n",
            "Image 2: data/data/testing/asian-m-woo/asian-m-woo.png\n",
            "Dissimilarity: 0.59\n",
            "Image 1: data/data/testing/ref-male-asian/male-asian-bc-253.png\n",
            "Image 2: data/data/testing/cas-fig-4-1-afr-am-f/cas-fig4-1-afr-am-f.png\n",
            "Dissimilarity: 0.46\n",
            "Image 1: data/data/testing/ref-male-asian/male-asian-bc-253.png\n",
            "Image 2: data/data/testing/cas-fig-4-1-afr-am-m/cas-fig4-1-afr-am-m.png\n",
            "Dissimilarity: 0.56\n",
            "Image 1: data/data/testing/ref-male-asian/male-asian-bc-253.png\n",
            "Image 2: data/data/testing/cas-fig-4-2-afr-f/cas-fig4-2-afr-f.png\n",
            "Dissimilarity: 0.44\n",
            "Image 1: data/data/testing/ref-male-asian/male-asian-bc-253.png\n",
            "Image 2: data/data/testing/cas-fig-4-2-afr-m/cas-fig4-2-afr-m.png\n",
            "Dissimilarity: 0.56\n",
            "Image 1: data/data/testing/ref-male-asian/male-asian-bc-253.png\n",
            "Image 2: data/data/testing/cas-fig-4-3-euro-am-f/cas-fig-4-3-euro-am-f.png\n",
            "Dissimilarity: 0.20\n",
            "Image 1: data/data/testing/ref-male-asian/male-asian-bc-253.png\n",
            "Image 2: data/data/testing/cas-fig-4-3-euro-am-m/cas-fig-4-3-euro-am-m.png\n",
            "Dissimilarity: 0.48\n",
            "Image 1: data/data/testing/ref-male-asian/male-asian-bc-253.png\n",
            "Image 2: data/data/testing/fountain-street-male/fountain-street-male-PA-SK-1559.png\n",
            "Dissimilarity: 0.75\n",
            "Image 1: data/data/testing/ref-male-asian/male-asian-bc-253.png\n",
            "Image 2: data/data/testing/london-christopher-le-stocks-female/female.png\n",
            "Dissimilarity: 0.63\n",
            "Image 1: data/data/testing/ref-male-asian/male-asian-bc-253.png\n",
            "Image 2: data/data/testing/magdalen-winchester/magdalen-winchester.png\n",
            "Dissimilarity: 0.61\n",
            "Image 1: data/data/testing/ref-male-asian/male-asian-bc-253.png\n",
            "Image 2: data/data/testing/si-male-jamestown/A0385-LSG-APV-5041B-male-jamestown.png\n",
            "Dissimilarity: 0.67\n",
            "Image 1: data/data/testing/ref-male-asian/male-asian-bc-253.png\n",
            "Image 2: data/data/testing/si-woman-1660/si-woman-1660-18CV271-JP-100.png\n",
            "Dissimilarity: 0.54\n",
            "Image 1: data/data/testing/ref-male-asian/male-asian-bc-253.png\n",
            "Image 2: data/data/testing/st-augustine-black-male/STAUGUSTINE-SI-385791-black-male.png\n",
            "Dissimilarity: 0.59\n",
            "Image 1: data/data/testing/ref-male-asian/male-asian-bc-253.png\n",
            "Image 2: data/data/testing/vendor-a/vendor-a.png\n",
            "Dissimilarity: 0.63\n",
            "Image 1: data/data/testing/ref-male-asian/male-asian-bc-253.png\n",
            "Image 2: data/data/testing/vendor-b/vendor-b.png\n",
            "Dissimilarity: 0.86\n",
            "Image 1: data/data/testing/ref-male-asian/male-asian-bc-253.png\n",
            "Image 2: data/data/testing/vendor-c/vendor-c.png\n",
            "Dissimilarity: 0.40\n",
            "Image 1: data/data/testing/ref-male-asian/male-asian-bc-253.png\n",
            "Image 2: data/data/testing/vendor-d/vendor_d.png\n",
            "Dissimilarity: 0.49\n",
            "Image 1: data/data/testing/ref-male-asian/male-asian-bc-253.png\n",
            "Image 2: data/data/testing/vendor-e/vendor-e-toulouse.png\n",
            "Dissimilarity: 0.43\n",
            "Image 1: data/data/testing/ref-male-asian/male-asian-bc-253.png\n",
            "Image 2: data/data/testing/vendor-f/vendor-f-female-india.png\n",
            "Dissimilarity: 0.32\n",
            "Image 1: data/data/testing/ref-male-asian/male-asian-bc-253.png\n",
            "Image 2: data/data/testing/vendor-g/vendor-g.png\n",
            "Dissimilarity: 0.55\n",
            "Image 1: data/data/testing/ref-male-asian/male-asian-bc-253.png\n",
            "Image 2: data/data/testing/vendor-h/vendor-h-male-india.png\n",
            "Dissimilarity: 0.37\n",
            "Image 1: data/data/testing/ref-male-european/european-male-bc-107.png\n",
            "Image 2: data/data/testing/11324-dh/Screen_Shot_2019-06-20_at_1-removebg-preview.png\n",
            "Dissimilarity: 0.60\n",
            "Image 1: data/data/testing/ref-male-european/european-male-bc-107.png\n",
            "Image 2: data/data/testing/RichardIII/richardIII.png\n",
            "Dissimilarity: 1.31\n",
            "Image 1: data/data/testing/ref-male-european/european-male-bc-107.png\n",
            "Image 2: data/data/testing/afr-f-moraitas/african-f-moraitas.png\n",
            "Dissimilarity: 0.44\n",
            "Image 1: data/data/testing/ref-male-european/european-male-bc-107.png\n",
            "Image 2: data/data/testing/asian-f-moraitas/asian-f-moraitas.png\n",
            "Dissimilarity: 0.69\n",
            "Image 1: data/data/testing/ref-male-european/european-male-bc-107.png\n",
            "Image 2: data/data/testing/asian-f-woo/asian-f-woo.png\n",
            "Dissimilarity: 0.68\n",
            "Image 1: data/data/testing/ref-male-european/european-male-bc-107.png\n",
            "Image 2: data/data/testing/asian-m-woo/asian-m-woo.png\n",
            "Dissimilarity: 0.77\n",
            "Image 1: data/data/testing/ref-male-european/european-male-bc-107.png\n",
            "Image 2: data/data/testing/cas-fig-4-1-afr-am-f/cas-fig4-1-afr-am-f.png\n",
            "Dissimilarity: 0.51\n",
            "Image 1: data/data/testing/ref-male-european/european-male-bc-107.png\n",
            "Image 2: data/data/testing/cas-fig-4-1-afr-am-m/cas-fig4-1-afr-am-m.png\n",
            "Dissimilarity: 0.60\n",
            "Image 1: data/data/testing/ref-male-european/european-male-bc-107.png\n",
            "Image 2: data/data/testing/cas-fig-4-2-afr-f/cas-fig4-2-afr-f.png\n",
            "Dissimilarity: 0.49\n",
            "Image 1: data/data/testing/ref-male-european/european-male-bc-107.png\n",
            "Image 2: data/data/testing/cas-fig-4-2-afr-m/cas-fig4-2-afr-m.png\n",
            "Dissimilarity: 0.60\n",
            "Image 1: data/data/testing/ref-male-european/european-male-bc-107.png\n",
            "Image 2: data/data/testing/cas-fig-4-3-euro-am-f/cas-fig-4-3-euro-am-f.png\n",
            "Dissimilarity: 0.33\n",
            "Image 1: data/data/testing/ref-male-european/european-male-bc-107.png\n",
            "Image 2: data/data/testing/cas-fig-4-3-euro-am-m/cas-fig-4-3-euro-am-m.png\n",
            "Dissimilarity: 0.63\n",
            "Image 1: data/data/testing/ref-male-european/european-male-bc-107.png\n",
            "Image 2: data/data/testing/fountain-street-male/fountain-street-male-PA-SK-1559.png\n",
            "Dissimilarity: 0.93\n",
            "Image 1: data/data/testing/ref-male-european/european-male-bc-107.png\n",
            "Image 2: data/data/testing/london-christopher-le-stocks-female/female.png\n",
            "Dissimilarity: 0.73\n",
            "Image 1: data/data/testing/ref-male-european/european-male-bc-107.png\n",
            "Image 2: data/data/testing/magdalen-winchester/magdalen-winchester.png\n",
            "Dissimilarity: 0.74\n",
            "Image 1: data/data/testing/ref-male-european/european-male-bc-107.png\n",
            "Image 2: data/data/testing/si-male-jamestown/A0385-LSG-APV-5041B-male-jamestown.png\n",
            "Dissimilarity: 0.81\n",
            "Image 1: data/data/testing/ref-male-european/european-male-bc-107.png\n",
            "Image 2: data/data/testing/si-woman-1660/si-woman-1660-18CV271-JP-100.png\n",
            "Dissimilarity: 0.67\n",
            "Image 1: data/data/testing/ref-male-european/european-male-bc-107.png\n",
            "Image 2: data/data/testing/st-augustine-black-male/STAUGUSTINE-SI-385791-black-male.png\n",
            "Dissimilarity: 0.65\n",
            "Image 1: data/data/testing/ref-male-european/european-male-bc-107.png\n",
            "Image 2: data/data/testing/vendor-a/vendor-a.png\n",
            "Dissimilarity: 0.79\n",
            "Image 1: data/data/testing/ref-male-european/european-male-bc-107.png\n",
            "Image 2: data/data/testing/vendor-b/vendor-b.png\n",
            "Dissimilarity: 0.80\n",
            "Image 1: data/data/testing/ref-male-european/european-male-bc-107.png\n",
            "Image 2: data/data/testing/vendor-c/vendor-c.png\n",
            "Dissimilarity: 0.44\n",
            "Image 1: data/data/testing/ref-male-european/european-male-bc-107.png\n",
            "Image 2: data/data/testing/vendor-d/vendor_d.png\n",
            "Dissimilarity: 0.52\n",
            "Image 1: data/data/testing/ref-male-european/european-male-bc-107.png\n",
            "Image 2: data/data/testing/vendor-e/vendor-e-toulouse.png\n",
            "Dissimilarity: 0.35\n",
            "Image 1: data/data/testing/ref-male-european/european-male-bc-107.png\n",
            "Image 2: data/data/testing/vendor-f/vendor-f-female-india.png\n",
            "Dissimilarity: 0.48\n",
            "Image 1: data/data/testing/ref-male-european/european-male-bc-107.png\n",
            "Image 2: data/data/testing/vendor-g/vendor-g.png\n",
            "Dissimilarity: 0.68\n",
            "Image 1: data/data/testing/ref-male-european/european-male-bc-107.png\n",
            "Image 2: data/data/testing/vendor-h/vendor-h-male-india.png\n",
            "Dissimilarity: 0.51\n",
            "Finshed all anchor-unknown pair comparisons\n",
            "--- 3.9219274520874023 seconds ---\n"
          ],
          "name": "stdout"
        }
      ]
    },
    {
      "cell_type": "markdown",
      "metadata": {
        "id": "lVt-evEFFP62",
        "colab_type": "text"
      },
      "source": [
        "---\n",
        "# The End\n",
        "\n",
        "The two code blocks below print out the structure of the neural network, and the version info of all of the loaded packages in this environment. This information is useful for replicating this notebook in the future.\n"
      ]
    },
    {
      "cell_type": "code",
      "metadata": {
        "id": "YDnSSRJpUuzH",
        "colab_type": "code",
        "colab": {}
      },
      "source": [
        "from torchvision import models\n",
        "model = net\n",
        "print(model)"
      ],
      "execution_count": 0,
      "outputs": []
    },
    {
      "cell_type": "code",
      "metadata": {
        "id": "K2x_rKjj7UxC",
        "colab_type": "code",
        "colab": {}
      },
      "source": [
        "# watermark is not installed by default.\n",
        "# the first time through, uncomment the two lines below\n",
        "# then run the block.\n",
        "#\n",
        "#\n",
        "# !pip install watermark\n",
        "# %load_ext watermark\n",
        "%watermark -v -m -p numpy,scipy,torchvision,PIL,tensorflow,torch -g"
      ],
      "execution_count": 0,
      "outputs": []
    }
  ]
}